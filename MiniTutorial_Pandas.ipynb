{
  "nbformat": 4,
  "nbformat_minor": 0,
  "metadata": {
    "colab": {
      "provenance": [],
      "include_colab_link": true
    },
    "kernelspec": {
      "name": "python3",
      "display_name": "Python 3"
    },
    "language_info": {
      "name": "python"
    }
  },
  "cells": [
    {
      "cell_type": "markdown",
      "metadata": {
        "id": "view-in-github",
        "colab_type": "text"
      },
      "source": [
        "<a href=\"https://colab.research.google.com/github/otanerifpb/TutorialPandas/blob/main/MiniTutorial_Pandas.ipynb\" target=\"_parent\"><img src=\"https://colab.research.google.com/assets/colab-badge.svg\" alt=\"Open In Colab\"/></a>"
      ]
    },
    {
      "cell_type": "markdown",
      "source": [
        "### Minicurso de Pandas"
      ],
      "metadata": {
        "id": "KZGRd7_OAum7"
      }
    },
    {
      "cell_type": "code",
      "source": [
        "# IFPB - 2023\n",
        "\n",
        "# Curso TSI + IA\n",
        "\n",
        "# Criado por: Professor Thiago Moura\n",
        "\n",
        "# Atualizado por: Renato Silva"
      ],
      "metadata": {
        "id": "KJ0SSPEUvSzW"
      },
      "execution_count": null,
      "outputs": []
    },
    {
      "cell_type": "markdown",
      "source": [
        "Carregamento dos Dados com o uso de URL"
      ],
      "metadata": {
        "id": "TpYy9-RIA02L"
      }
    },
    {
      "cell_type": "code",
      "execution_count": null,
      "metadata": {
        "id": "mti2SqVbAtzN"
      },
      "outputs": [],
      "source": [
        "# Importes necessários\n",
        "import pandas as pd\n",
        "\n",
        "# Para identificar um Dataset, verifique os valores da Target(y), se estiver dicidicos em classe (Classificação), se forem valores (Regressão)\n",
        "# Para os dados vindos do 'gitlearn' usar: 'train_data, test_data, train_labels, test_labels'\n",
        "# Para os dados vindos do 'seaborn' usar:  'X_train, X_test, y_train, y_test'\n",
        "# Definição das Urls onde vão estar os dados\n",
        "#url = \"https://archive.ics.uci.edu/ml/machine-learning-databases/iris/iris.data\"\n",
        "url = \"https://raw.githubusercontent.com/tmoura/machinelearning/master/iris.data\"\n",
        "#url = \"/content/sample_data/transfusion.data\"\n",
        "\n",
        "# Carregar os dados do dataset\n",
        "df1 = pd.read_csv(url, header=None)\n",
        "\n",
        "# Verificar a quantidade de colunas do banco, para usar nas Features(X)\n",
        "columns = len(df1.columns)\n",
        "\n",
        "# A classificalção de y e X, depois dos dados ser Normalizados\n",
        "# Separar a coluna Target(y), usando o índice da coluna\n",
        "y = df1[0]\n",
        "\n",
        "# Separar as demais colunas para Features(X), a partir da coluna 1\n",
        "X = df1.loc[:,1:columns-1]\n",
        "# ou\n",
        "X = df1.loc[:,1:]\n",
        "\n",
        "# Separar as demais colunas para Features(X), exceto uma determinada coluna\n",
        "X = df1.drop(0, axis=1)\n",
        "\n",
        "# Prints de dados na tela, mais detalhista para menos\n",
        "display(df)\n",
        "df1\n",
        "print(df)\n",
        "\n",
        "print(y)\n",
        "print()\n",
        "print('*'*40)\n",
        "print(X)\n",
        "print('*'*40)\n",
        "print(df1.head()) # head() default é 5"
      ]
    },
    {
      "cell_type": "markdown",
      "source": [
        "Carregamento dos Dados com o uso de sites que diponibilizam dataset"
      ],
      "metadata": {
        "id": "OPz59UPIGf6x"
      }
    },
    {
      "cell_type": "code",
      "source": [
        "# Importes necessários\n",
        "# Para carregar um dataset do Seaborn usar\n",
        "# Para os dados vindos do 'gitlearn' usar: 'train_data, test_data, train_labels, test_labels'\n",
        "# Para os dados vindos do 'seaborn' usar:  'X_train, X_test, y_train, y_test'\n",
        "from seaborn import load_dataset\n",
        "\n",
        "# Para identificar um Dataset, verifique os valores da Target(y), se estiver dicidicos em classe (Classificação), se forem valores (Regressão)\n",
        "# Para usar um dataset do Seaborn criar um Dataframe(df)\n",
        "df2 = load_dataset('titanic')\n",
        "\n",
        "# Panda cria um clone do banco e deixa a visão em Python mais estilizado\n",
        "df2 = pd.DataFrame(data = df2)\n",
        "\n",
        "# A classificalção de y e X, depois dos dados ser Normalizados\n",
        "# Separar a coluna Target(y), usando nome da coluna\n",
        "y = df2['pclass']\n",
        "\n",
        "# Separar as demais colunas para Features(X), exceto uma determinada coluna\n",
        "#X = df.drop(2, axis=1)\n",
        "X = df2.drop('pclass', axis=1)\n",
        "\n",
        "# Eliminar a coluna 'class' que tem os mesmos valores de 'pclass', 'axis=1' indica que vai apagar a coluna\n",
        "# 'axis=0' navegação horizontal(Linhas), 'axis=1' navegação vertical(Colunas)\n",
        "df2 = df2.drop('class', axis = 1)\n",
        "\n",
        "df2.head(10)"
      ],
      "metadata": {
        "id": "2LACAw2mJ2W8"
      },
      "execution_count": null,
      "outputs": []
    },
    {
      "cell_type": "markdown",
      "source": [
        "Criando um DataFrame"
      ],
      "metadata": {
        "id": "ccUfbHmWRBZy"
      }
    },
    {
      "cell_type": "code",
      "source": [
        "# Importes necessários\n",
        "\n",
        "# Para identificar um Dataset, verifique os valores da Target(y), se estiver dicidicos em classe (Classificação), se forem valores (Regressão)\n",
        "# Criar um dataset local\n",
        "data = {\n",
        "'País': ['Bélgica', 'Índia', 'Brasil'],\n",
        "'Capital': ['Bruxelas', 'Nova Delhi', 'Brasília'],\n",
        "'População': [123465, 456789, 987654]\n",
        "}\n",
        "\n",
        "# Usar o Pandas para fazer clone do bando e estiizar a apresentação, configurando o nome das colunas\n",
        "df3 = pd.DataFrame(data, columns=['País','Capital','População'])\n",
        "\n",
        "df3.head()"
      ],
      "metadata": {
        "id": "P_rUdTjXRDwS",
        "outputId": "01a14768-162a-42dc-88a5-f088197ca963",
        "colab": {
          "base_uri": "https://localhost:8080/",
          "height": 143
        }
      },
      "execution_count": null,
      "outputs": [
        {
          "output_type": "execute_result",
          "data": {
            "text/plain": [
              "      País     Capital  População\n",
              "0  Bélgica    Bruxelas     123465\n",
              "1    Índia  Nova Delhi     456789\n",
              "2   Brasil    Brasília     987654"
            ],
            "text/html": [
              "\n",
              "  <div id=\"df-db625ab5-cde1-4b19-ac7d-4c3db345a0a5\" class=\"colab-df-container\">\n",
              "    <div>\n",
              "<style scoped>\n",
              "    .dataframe tbody tr th:only-of-type {\n",
              "        vertical-align: middle;\n",
              "    }\n",
              "\n",
              "    .dataframe tbody tr th {\n",
              "        vertical-align: top;\n",
              "    }\n",
              "\n",
              "    .dataframe thead th {\n",
              "        text-align: right;\n",
              "    }\n",
              "</style>\n",
              "<table border=\"1\" class=\"dataframe\">\n",
              "  <thead>\n",
              "    <tr style=\"text-align: right;\">\n",
              "      <th></th>\n",
              "      <th>País</th>\n",
              "      <th>Capital</th>\n",
              "      <th>População</th>\n",
              "    </tr>\n",
              "  </thead>\n",
              "  <tbody>\n",
              "    <tr>\n",
              "      <th>0</th>\n",
              "      <td>Bélgica</td>\n",
              "      <td>Bruxelas</td>\n",
              "      <td>123465</td>\n",
              "    </tr>\n",
              "    <tr>\n",
              "      <th>1</th>\n",
              "      <td>Índia</td>\n",
              "      <td>Nova Delhi</td>\n",
              "      <td>456789</td>\n",
              "    </tr>\n",
              "    <tr>\n",
              "      <th>2</th>\n",
              "      <td>Brasil</td>\n",
              "      <td>Brasília</td>\n",
              "      <td>987654</td>\n",
              "    </tr>\n",
              "  </tbody>\n",
              "</table>\n",
              "</div>\n",
              "    <div class=\"colab-df-buttons\">\n",
              "\n",
              "  <div class=\"colab-df-container\">\n",
              "    <button class=\"colab-df-convert\" onclick=\"convertToInteractive('df-db625ab5-cde1-4b19-ac7d-4c3db345a0a5')\"\n",
              "            title=\"Convert this dataframe to an interactive table.\"\n",
              "            style=\"display:none;\">\n",
              "\n",
              "  <svg xmlns=\"http://www.w3.org/2000/svg\" height=\"24px\" viewBox=\"0 -960 960 960\">\n",
              "    <path d=\"M120-120v-720h720v720H120Zm60-500h600v-160H180v160Zm220 220h160v-160H400v160Zm0 220h160v-160H400v160ZM180-400h160v-160H180v160Zm440 0h160v-160H620v160ZM180-180h160v-160H180v160Zm440 0h160v-160H620v160Z\"/>\n",
              "  </svg>\n",
              "    </button>\n",
              "\n",
              "  <style>\n",
              "    .colab-df-container {\n",
              "      display:flex;\n",
              "      gap: 12px;\n",
              "    }\n",
              "\n",
              "    .colab-df-convert {\n",
              "      background-color: #E8F0FE;\n",
              "      border: none;\n",
              "      border-radius: 50%;\n",
              "      cursor: pointer;\n",
              "      display: none;\n",
              "      fill: #1967D2;\n",
              "      height: 32px;\n",
              "      padding: 0 0 0 0;\n",
              "      width: 32px;\n",
              "    }\n",
              "\n",
              "    .colab-df-convert:hover {\n",
              "      background-color: #E2EBFA;\n",
              "      box-shadow: 0px 1px 2px rgba(60, 64, 67, 0.3), 0px 1px 3px 1px rgba(60, 64, 67, 0.15);\n",
              "      fill: #174EA6;\n",
              "    }\n",
              "\n",
              "    .colab-df-buttons div {\n",
              "      margin-bottom: 4px;\n",
              "    }\n",
              "\n",
              "    [theme=dark] .colab-df-convert {\n",
              "      background-color: #3B4455;\n",
              "      fill: #D2E3FC;\n",
              "    }\n",
              "\n",
              "    [theme=dark] .colab-df-convert:hover {\n",
              "      background-color: #434B5C;\n",
              "      box-shadow: 0px 1px 3px 1px rgba(0, 0, 0, 0.15);\n",
              "      filter: drop-shadow(0px 1px 2px rgba(0, 0, 0, 0.3));\n",
              "      fill: #FFFFFF;\n",
              "    }\n",
              "  </style>\n",
              "\n",
              "    <script>\n",
              "      const buttonEl =\n",
              "        document.querySelector('#df-db625ab5-cde1-4b19-ac7d-4c3db345a0a5 button.colab-df-convert');\n",
              "      buttonEl.style.display =\n",
              "        google.colab.kernel.accessAllowed ? 'block' : 'none';\n",
              "\n",
              "      async function convertToInteractive(key) {\n",
              "        const element = document.querySelector('#df-db625ab5-cde1-4b19-ac7d-4c3db345a0a5');\n",
              "        const dataTable =\n",
              "          await google.colab.kernel.invokeFunction('convertToInteractive',\n",
              "                                                    [key], {});\n",
              "        if (!dataTable) return;\n",
              "\n",
              "        const docLinkHtml = 'Like what you see? Visit the ' +\n",
              "          '<a target=\"_blank\" href=https://colab.research.google.com/notebooks/data_table.ipynb>data table notebook</a>'\n",
              "          + ' to learn more about interactive tables.';\n",
              "        element.innerHTML = '';\n",
              "        dataTable['output_type'] = 'display_data';\n",
              "        await google.colab.output.renderOutput(dataTable, element);\n",
              "        const docLink = document.createElement('div');\n",
              "        docLink.innerHTML = docLinkHtml;\n",
              "        element.appendChild(docLink);\n",
              "      }\n",
              "    </script>\n",
              "  </div>\n",
              "\n",
              "\n",
              "<div id=\"df-5647519a-9b38-4a19-8201-9488d669c9a9\">\n",
              "  <button class=\"colab-df-quickchart\" onclick=\"quickchart('df-5647519a-9b38-4a19-8201-9488d669c9a9')\"\n",
              "            title=\"Suggest charts.\"\n",
              "            style=\"display:none;\">\n",
              "\n",
              "<svg xmlns=\"http://www.w3.org/2000/svg\" height=\"24px\"viewBox=\"0 0 24 24\"\n",
              "     width=\"24px\">\n",
              "    <g>\n",
              "        <path d=\"M19 3H5c-1.1 0-2 .9-2 2v14c0 1.1.9 2 2 2h14c1.1 0 2-.9 2-2V5c0-1.1-.9-2-2-2zM9 17H7v-7h2v7zm4 0h-2V7h2v10zm4 0h-2v-4h2v4z\"/>\n",
              "    </g>\n",
              "</svg>\n",
              "  </button>\n",
              "\n",
              "<style>\n",
              "  .colab-df-quickchart {\n",
              "      --bg-color: #E8F0FE;\n",
              "      --fill-color: #1967D2;\n",
              "      --hover-bg-color: #E2EBFA;\n",
              "      --hover-fill-color: #174EA6;\n",
              "      --disabled-fill-color: #AAA;\n",
              "      --disabled-bg-color: #DDD;\n",
              "  }\n",
              "\n",
              "  [theme=dark] .colab-df-quickchart {\n",
              "      --bg-color: #3B4455;\n",
              "      --fill-color: #D2E3FC;\n",
              "      --hover-bg-color: #434B5C;\n",
              "      --hover-fill-color: #FFFFFF;\n",
              "      --disabled-bg-color: #3B4455;\n",
              "      --disabled-fill-color: #666;\n",
              "  }\n",
              "\n",
              "  .colab-df-quickchart {\n",
              "    background-color: var(--bg-color);\n",
              "    border: none;\n",
              "    border-radius: 50%;\n",
              "    cursor: pointer;\n",
              "    display: none;\n",
              "    fill: var(--fill-color);\n",
              "    height: 32px;\n",
              "    padding: 0;\n",
              "    width: 32px;\n",
              "  }\n",
              "\n",
              "  .colab-df-quickchart:hover {\n",
              "    background-color: var(--hover-bg-color);\n",
              "    box-shadow: 0 1px 2px rgba(60, 64, 67, 0.3), 0 1px 3px 1px rgba(60, 64, 67, 0.15);\n",
              "    fill: var(--button-hover-fill-color);\n",
              "  }\n",
              "\n",
              "  .colab-df-quickchart-complete:disabled,\n",
              "  .colab-df-quickchart-complete:disabled:hover {\n",
              "    background-color: var(--disabled-bg-color);\n",
              "    fill: var(--disabled-fill-color);\n",
              "    box-shadow: none;\n",
              "  }\n",
              "\n",
              "  .colab-df-spinner {\n",
              "    border: 2px solid var(--fill-color);\n",
              "    border-color: transparent;\n",
              "    border-bottom-color: var(--fill-color);\n",
              "    animation:\n",
              "      spin 1s steps(1) infinite;\n",
              "  }\n",
              "\n",
              "  @keyframes spin {\n",
              "    0% {\n",
              "      border-color: transparent;\n",
              "      border-bottom-color: var(--fill-color);\n",
              "      border-left-color: var(--fill-color);\n",
              "    }\n",
              "    20% {\n",
              "      border-color: transparent;\n",
              "      border-left-color: var(--fill-color);\n",
              "      border-top-color: var(--fill-color);\n",
              "    }\n",
              "    30% {\n",
              "      border-color: transparent;\n",
              "      border-left-color: var(--fill-color);\n",
              "      border-top-color: var(--fill-color);\n",
              "      border-right-color: var(--fill-color);\n",
              "    }\n",
              "    40% {\n",
              "      border-color: transparent;\n",
              "      border-right-color: var(--fill-color);\n",
              "      border-top-color: var(--fill-color);\n",
              "    }\n",
              "    60% {\n",
              "      border-color: transparent;\n",
              "      border-right-color: var(--fill-color);\n",
              "    }\n",
              "    80% {\n",
              "      border-color: transparent;\n",
              "      border-right-color: var(--fill-color);\n",
              "      border-bottom-color: var(--fill-color);\n",
              "    }\n",
              "    90% {\n",
              "      border-color: transparent;\n",
              "      border-bottom-color: var(--fill-color);\n",
              "    }\n",
              "  }\n",
              "</style>\n",
              "\n",
              "  <script>\n",
              "    async function quickchart(key) {\n",
              "      const quickchartButtonEl =\n",
              "        document.querySelector('#' + key + ' button');\n",
              "      quickchartButtonEl.disabled = true;  // To prevent multiple clicks.\n",
              "      quickchartButtonEl.classList.add('colab-df-spinner');\n",
              "      try {\n",
              "        const charts = await google.colab.kernel.invokeFunction(\n",
              "            'suggestCharts', [key], {});\n",
              "      } catch (error) {\n",
              "        console.error('Error during call to suggestCharts:', error);\n",
              "      }\n",
              "      quickchartButtonEl.classList.remove('colab-df-spinner');\n",
              "      quickchartButtonEl.classList.add('colab-df-quickchart-complete');\n",
              "    }\n",
              "    (() => {\n",
              "      let quickchartButtonEl =\n",
              "        document.querySelector('#df-5647519a-9b38-4a19-8201-9488d669c9a9 button');\n",
              "      quickchartButtonEl.style.display =\n",
              "        google.colab.kernel.accessAllowed ? 'block' : 'none';\n",
              "    })();\n",
              "  </script>\n",
              "</div>\n",
              "    </div>\n",
              "  </div>\n"
            ]
          },
          "metadata": {},
          "execution_count": 25
        }
      ]
    },
    {
      "cell_type": "markdown",
      "source": [
        "Copiar DataFrame"
      ],
      "metadata": {
        "id": "t5pl6qeB_dIi"
      }
    },
    {
      "cell_type": "code",
      "source": [
        "# Copiar um determinado dataset\n",
        "df4 = df3.copy()\n",
        "\n",
        "# Atualizando os valores de uma coluna\n",
        "df4['Capital'] = 'teste'\n",
        "\n",
        "display(df4.head())\n",
        "display(df3.head())"
      ],
      "metadata": {
        "id": "m7pNDROD_f2I",
        "colab": {
          "base_uri": "https://localhost:8080/",
          "height": 270
        },
        "outputId": "e42c8f8a-5d70-4a4f-fd91-0da53444bdf9"
      },
      "execution_count": null,
      "outputs": [
        {
          "output_type": "display_data",
          "data": {
            "text/plain": [
              "      País Capital  População\n",
              "0  Bélgica   teste     123465\n",
              "1    Índia   teste     456789\n",
              "2   Brasil   teste     987654"
            ],
            "text/html": [
              "\n",
              "  <div id=\"df-38ab09c5-231e-4d3f-aa37-bba1faf62b45\" class=\"colab-df-container\">\n",
              "    <div>\n",
              "<style scoped>\n",
              "    .dataframe tbody tr th:only-of-type {\n",
              "        vertical-align: middle;\n",
              "    }\n",
              "\n",
              "    .dataframe tbody tr th {\n",
              "        vertical-align: top;\n",
              "    }\n",
              "\n",
              "    .dataframe thead th {\n",
              "        text-align: right;\n",
              "    }\n",
              "</style>\n",
              "<table border=\"1\" class=\"dataframe\">\n",
              "  <thead>\n",
              "    <tr style=\"text-align: right;\">\n",
              "      <th></th>\n",
              "      <th>País</th>\n",
              "      <th>Capital</th>\n",
              "      <th>População</th>\n",
              "    </tr>\n",
              "  </thead>\n",
              "  <tbody>\n",
              "    <tr>\n",
              "      <th>0</th>\n",
              "      <td>Bélgica</td>\n",
              "      <td>teste</td>\n",
              "      <td>123465</td>\n",
              "    </tr>\n",
              "    <tr>\n",
              "      <th>1</th>\n",
              "      <td>Índia</td>\n",
              "      <td>teste</td>\n",
              "      <td>456789</td>\n",
              "    </tr>\n",
              "    <tr>\n",
              "      <th>2</th>\n",
              "      <td>Brasil</td>\n",
              "      <td>teste</td>\n",
              "      <td>987654</td>\n",
              "    </tr>\n",
              "  </tbody>\n",
              "</table>\n",
              "</div>\n",
              "    <div class=\"colab-df-buttons\">\n",
              "\n",
              "  <div class=\"colab-df-container\">\n",
              "    <button class=\"colab-df-convert\" onclick=\"convertToInteractive('df-38ab09c5-231e-4d3f-aa37-bba1faf62b45')\"\n",
              "            title=\"Convert this dataframe to an interactive table.\"\n",
              "            style=\"display:none;\">\n",
              "\n",
              "  <svg xmlns=\"http://www.w3.org/2000/svg\" height=\"24px\" viewBox=\"0 -960 960 960\">\n",
              "    <path d=\"M120-120v-720h720v720H120Zm60-500h600v-160H180v160Zm220 220h160v-160H400v160Zm0 220h160v-160H400v160ZM180-400h160v-160H180v160Zm440 0h160v-160H620v160ZM180-180h160v-160H180v160Zm440 0h160v-160H620v160Z\"/>\n",
              "  </svg>\n",
              "    </button>\n",
              "\n",
              "  <style>\n",
              "    .colab-df-container {\n",
              "      display:flex;\n",
              "      gap: 12px;\n",
              "    }\n",
              "\n",
              "    .colab-df-convert {\n",
              "      background-color: #E8F0FE;\n",
              "      border: none;\n",
              "      border-radius: 50%;\n",
              "      cursor: pointer;\n",
              "      display: none;\n",
              "      fill: #1967D2;\n",
              "      height: 32px;\n",
              "      padding: 0 0 0 0;\n",
              "      width: 32px;\n",
              "    }\n",
              "\n",
              "    .colab-df-convert:hover {\n",
              "      background-color: #E2EBFA;\n",
              "      box-shadow: 0px 1px 2px rgba(60, 64, 67, 0.3), 0px 1px 3px 1px rgba(60, 64, 67, 0.15);\n",
              "      fill: #174EA6;\n",
              "    }\n",
              "\n",
              "    .colab-df-buttons div {\n",
              "      margin-bottom: 4px;\n",
              "    }\n",
              "\n",
              "    [theme=dark] .colab-df-convert {\n",
              "      background-color: #3B4455;\n",
              "      fill: #D2E3FC;\n",
              "    }\n",
              "\n",
              "    [theme=dark] .colab-df-convert:hover {\n",
              "      background-color: #434B5C;\n",
              "      box-shadow: 0px 1px 3px 1px rgba(0, 0, 0, 0.15);\n",
              "      filter: drop-shadow(0px 1px 2px rgba(0, 0, 0, 0.3));\n",
              "      fill: #FFFFFF;\n",
              "    }\n",
              "  </style>\n",
              "\n",
              "    <script>\n",
              "      const buttonEl =\n",
              "        document.querySelector('#df-38ab09c5-231e-4d3f-aa37-bba1faf62b45 button.colab-df-convert');\n",
              "      buttonEl.style.display =\n",
              "        google.colab.kernel.accessAllowed ? 'block' : 'none';\n",
              "\n",
              "      async function convertToInteractive(key) {\n",
              "        const element = document.querySelector('#df-38ab09c5-231e-4d3f-aa37-bba1faf62b45');\n",
              "        const dataTable =\n",
              "          await google.colab.kernel.invokeFunction('convertToInteractive',\n",
              "                                                    [key], {});\n",
              "        if (!dataTable) return;\n",
              "\n",
              "        const docLinkHtml = 'Like what you see? Visit the ' +\n",
              "          '<a target=\"_blank\" href=https://colab.research.google.com/notebooks/data_table.ipynb>data table notebook</a>'\n",
              "          + ' to learn more about interactive tables.';\n",
              "        element.innerHTML = '';\n",
              "        dataTable['output_type'] = 'display_data';\n",
              "        await google.colab.output.renderOutput(dataTable, element);\n",
              "        const docLink = document.createElement('div');\n",
              "        docLink.innerHTML = docLinkHtml;\n",
              "        element.appendChild(docLink);\n",
              "      }\n",
              "    </script>\n",
              "  </div>\n",
              "\n",
              "\n",
              "<div id=\"df-6cb8741e-1397-44c8-b5f2-003b4979bd28\">\n",
              "  <button class=\"colab-df-quickchart\" onclick=\"quickchart('df-6cb8741e-1397-44c8-b5f2-003b4979bd28')\"\n",
              "            title=\"Suggest charts.\"\n",
              "            style=\"display:none;\">\n",
              "\n",
              "<svg xmlns=\"http://www.w3.org/2000/svg\" height=\"24px\"viewBox=\"0 0 24 24\"\n",
              "     width=\"24px\">\n",
              "    <g>\n",
              "        <path d=\"M19 3H5c-1.1 0-2 .9-2 2v14c0 1.1.9 2 2 2h14c1.1 0 2-.9 2-2V5c0-1.1-.9-2-2-2zM9 17H7v-7h2v7zm4 0h-2V7h2v10zm4 0h-2v-4h2v4z\"/>\n",
              "    </g>\n",
              "</svg>\n",
              "  </button>\n",
              "\n",
              "<style>\n",
              "  .colab-df-quickchart {\n",
              "      --bg-color: #E8F0FE;\n",
              "      --fill-color: #1967D2;\n",
              "      --hover-bg-color: #E2EBFA;\n",
              "      --hover-fill-color: #174EA6;\n",
              "      --disabled-fill-color: #AAA;\n",
              "      --disabled-bg-color: #DDD;\n",
              "  }\n",
              "\n",
              "  [theme=dark] .colab-df-quickchart {\n",
              "      --bg-color: #3B4455;\n",
              "      --fill-color: #D2E3FC;\n",
              "      --hover-bg-color: #434B5C;\n",
              "      --hover-fill-color: #FFFFFF;\n",
              "      --disabled-bg-color: #3B4455;\n",
              "      --disabled-fill-color: #666;\n",
              "  }\n",
              "\n",
              "  .colab-df-quickchart {\n",
              "    background-color: var(--bg-color);\n",
              "    border: none;\n",
              "    border-radius: 50%;\n",
              "    cursor: pointer;\n",
              "    display: none;\n",
              "    fill: var(--fill-color);\n",
              "    height: 32px;\n",
              "    padding: 0;\n",
              "    width: 32px;\n",
              "  }\n",
              "\n",
              "  .colab-df-quickchart:hover {\n",
              "    background-color: var(--hover-bg-color);\n",
              "    box-shadow: 0 1px 2px rgba(60, 64, 67, 0.3), 0 1px 3px 1px rgba(60, 64, 67, 0.15);\n",
              "    fill: var(--button-hover-fill-color);\n",
              "  }\n",
              "\n",
              "  .colab-df-quickchart-complete:disabled,\n",
              "  .colab-df-quickchart-complete:disabled:hover {\n",
              "    background-color: var(--disabled-bg-color);\n",
              "    fill: var(--disabled-fill-color);\n",
              "    box-shadow: none;\n",
              "  }\n",
              "\n",
              "  .colab-df-spinner {\n",
              "    border: 2px solid var(--fill-color);\n",
              "    border-color: transparent;\n",
              "    border-bottom-color: var(--fill-color);\n",
              "    animation:\n",
              "      spin 1s steps(1) infinite;\n",
              "  }\n",
              "\n",
              "  @keyframes spin {\n",
              "    0% {\n",
              "      border-color: transparent;\n",
              "      border-bottom-color: var(--fill-color);\n",
              "      border-left-color: var(--fill-color);\n",
              "    }\n",
              "    20% {\n",
              "      border-color: transparent;\n",
              "      border-left-color: var(--fill-color);\n",
              "      border-top-color: var(--fill-color);\n",
              "    }\n",
              "    30% {\n",
              "      border-color: transparent;\n",
              "      border-left-color: var(--fill-color);\n",
              "      border-top-color: var(--fill-color);\n",
              "      border-right-color: var(--fill-color);\n",
              "    }\n",
              "    40% {\n",
              "      border-color: transparent;\n",
              "      border-right-color: var(--fill-color);\n",
              "      border-top-color: var(--fill-color);\n",
              "    }\n",
              "    60% {\n",
              "      border-color: transparent;\n",
              "      border-right-color: var(--fill-color);\n",
              "    }\n",
              "    80% {\n",
              "      border-color: transparent;\n",
              "      border-right-color: var(--fill-color);\n",
              "      border-bottom-color: var(--fill-color);\n",
              "    }\n",
              "    90% {\n",
              "      border-color: transparent;\n",
              "      border-bottom-color: var(--fill-color);\n",
              "    }\n",
              "  }\n",
              "</style>\n",
              "\n",
              "  <script>\n",
              "    async function quickchart(key) {\n",
              "      const quickchartButtonEl =\n",
              "        document.querySelector('#' + key + ' button');\n",
              "      quickchartButtonEl.disabled = true;  // To prevent multiple clicks.\n",
              "      quickchartButtonEl.classList.add('colab-df-spinner');\n",
              "      try {\n",
              "        const charts = await google.colab.kernel.invokeFunction(\n",
              "            'suggestCharts', [key], {});\n",
              "      } catch (error) {\n",
              "        console.error('Error during call to suggestCharts:', error);\n",
              "      }\n",
              "      quickchartButtonEl.classList.remove('colab-df-spinner');\n",
              "      quickchartButtonEl.classList.add('colab-df-quickchart-complete');\n",
              "    }\n",
              "    (() => {\n",
              "      let quickchartButtonEl =\n",
              "        document.querySelector('#df-6cb8741e-1397-44c8-b5f2-003b4979bd28 button');\n",
              "      quickchartButtonEl.style.display =\n",
              "        google.colab.kernel.accessAllowed ? 'block' : 'none';\n",
              "    })();\n",
              "  </script>\n",
              "</div>\n",
              "    </div>\n",
              "  </div>\n"
            ]
          },
          "metadata": {}
        },
        {
          "output_type": "display_data",
          "data": {
            "text/plain": [
              "      País     Capital  População\n",
              "0  Bélgica    Bruxelas     123465\n",
              "1    Índia  Nova Delhi     456789\n",
              "2   Brasil    Brasília     987654"
            ],
            "text/html": [
              "\n",
              "  <div id=\"df-a0b40300-94c8-4ffa-9cbc-e684f42b8034\" class=\"colab-df-container\">\n",
              "    <div>\n",
              "<style scoped>\n",
              "    .dataframe tbody tr th:only-of-type {\n",
              "        vertical-align: middle;\n",
              "    }\n",
              "\n",
              "    .dataframe tbody tr th {\n",
              "        vertical-align: top;\n",
              "    }\n",
              "\n",
              "    .dataframe thead th {\n",
              "        text-align: right;\n",
              "    }\n",
              "</style>\n",
              "<table border=\"1\" class=\"dataframe\">\n",
              "  <thead>\n",
              "    <tr style=\"text-align: right;\">\n",
              "      <th></th>\n",
              "      <th>País</th>\n",
              "      <th>Capital</th>\n",
              "      <th>População</th>\n",
              "    </tr>\n",
              "  </thead>\n",
              "  <tbody>\n",
              "    <tr>\n",
              "      <th>0</th>\n",
              "      <td>Bélgica</td>\n",
              "      <td>Bruxelas</td>\n",
              "      <td>123465</td>\n",
              "    </tr>\n",
              "    <tr>\n",
              "      <th>1</th>\n",
              "      <td>Índia</td>\n",
              "      <td>Nova Delhi</td>\n",
              "      <td>456789</td>\n",
              "    </tr>\n",
              "    <tr>\n",
              "      <th>2</th>\n",
              "      <td>Brasil</td>\n",
              "      <td>Brasília</td>\n",
              "      <td>987654</td>\n",
              "    </tr>\n",
              "  </tbody>\n",
              "</table>\n",
              "</div>\n",
              "    <div class=\"colab-df-buttons\">\n",
              "\n",
              "  <div class=\"colab-df-container\">\n",
              "    <button class=\"colab-df-convert\" onclick=\"convertToInteractive('df-a0b40300-94c8-4ffa-9cbc-e684f42b8034')\"\n",
              "            title=\"Convert this dataframe to an interactive table.\"\n",
              "            style=\"display:none;\">\n",
              "\n",
              "  <svg xmlns=\"http://www.w3.org/2000/svg\" height=\"24px\" viewBox=\"0 -960 960 960\">\n",
              "    <path d=\"M120-120v-720h720v720H120Zm60-500h600v-160H180v160Zm220 220h160v-160H400v160Zm0 220h160v-160H400v160ZM180-400h160v-160H180v160Zm440 0h160v-160H620v160ZM180-180h160v-160H180v160Zm440 0h160v-160H620v160Z\"/>\n",
              "  </svg>\n",
              "    </button>\n",
              "\n",
              "  <style>\n",
              "    .colab-df-container {\n",
              "      display:flex;\n",
              "      gap: 12px;\n",
              "    }\n",
              "\n",
              "    .colab-df-convert {\n",
              "      background-color: #E8F0FE;\n",
              "      border: none;\n",
              "      border-radius: 50%;\n",
              "      cursor: pointer;\n",
              "      display: none;\n",
              "      fill: #1967D2;\n",
              "      height: 32px;\n",
              "      padding: 0 0 0 0;\n",
              "      width: 32px;\n",
              "    }\n",
              "\n",
              "    .colab-df-convert:hover {\n",
              "      background-color: #E2EBFA;\n",
              "      box-shadow: 0px 1px 2px rgba(60, 64, 67, 0.3), 0px 1px 3px 1px rgba(60, 64, 67, 0.15);\n",
              "      fill: #174EA6;\n",
              "    }\n",
              "\n",
              "    .colab-df-buttons div {\n",
              "      margin-bottom: 4px;\n",
              "    }\n",
              "\n",
              "    [theme=dark] .colab-df-convert {\n",
              "      background-color: #3B4455;\n",
              "      fill: #D2E3FC;\n",
              "    }\n",
              "\n",
              "    [theme=dark] .colab-df-convert:hover {\n",
              "      background-color: #434B5C;\n",
              "      box-shadow: 0px 1px 3px 1px rgba(0, 0, 0, 0.15);\n",
              "      filter: drop-shadow(0px 1px 2px rgba(0, 0, 0, 0.3));\n",
              "      fill: #FFFFFF;\n",
              "    }\n",
              "  </style>\n",
              "\n",
              "    <script>\n",
              "      const buttonEl =\n",
              "        document.querySelector('#df-a0b40300-94c8-4ffa-9cbc-e684f42b8034 button.colab-df-convert');\n",
              "      buttonEl.style.display =\n",
              "        google.colab.kernel.accessAllowed ? 'block' : 'none';\n",
              "\n",
              "      async function convertToInteractive(key) {\n",
              "        const element = document.querySelector('#df-a0b40300-94c8-4ffa-9cbc-e684f42b8034');\n",
              "        const dataTable =\n",
              "          await google.colab.kernel.invokeFunction('convertToInteractive',\n",
              "                                                    [key], {});\n",
              "        if (!dataTable) return;\n",
              "\n",
              "        const docLinkHtml = 'Like what you see? Visit the ' +\n",
              "          '<a target=\"_blank\" href=https://colab.research.google.com/notebooks/data_table.ipynb>data table notebook</a>'\n",
              "          + ' to learn more about interactive tables.';\n",
              "        element.innerHTML = '';\n",
              "        dataTable['output_type'] = 'display_data';\n",
              "        await google.colab.output.renderOutput(dataTable, element);\n",
              "        const docLink = document.createElement('div');\n",
              "        docLink.innerHTML = docLinkHtml;\n",
              "        element.appendChild(docLink);\n",
              "      }\n",
              "    </script>\n",
              "  </div>\n",
              "\n",
              "\n",
              "<div id=\"df-3c30d1a1-094f-4e54-a663-01c92a9441c6\">\n",
              "  <button class=\"colab-df-quickchart\" onclick=\"quickchart('df-3c30d1a1-094f-4e54-a663-01c92a9441c6')\"\n",
              "            title=\"Suggest charts.\"\n",
              "            style=\"display:none;\">\n",
              "\n",
              "<svg xmlns=\"http://www.w3.org/2000/svg\" height=\"24px\"viewBox=\"0 0 24 24\"\n",
              "     width=\"24px\">\n",
              "    <g>\n",
              "        <path d=\"M19 3H5c-1.1 0-2 .9-2 2v14c0 1.1.9 2 2 2h14c1.1 0 2-.9 2-2V5c0-1.1-.9-2-2-2zM9 17H7v-7h2v7zm4 0h-2V7h2v10zm4 0h-2v-4h2v4z\"/>\n",
              "    </g>\n",
              "</svg>\n",
              "  </button>\n",
              "\n",
              "<style>\n",
              "  .colab-df-quickchart {\n",
              "      --bg-color: #E8F0FE;\n",
              "      --fill-color: #1967D2;\n",
              "      --hover-bg-color: #E2EBFA;\n",
              "      --hover-fill-color: #174EA6;\n",
              "      --disabled-fill-color: #AAA;\n",
              "      --disabled-bg-color: #DDD;\n",
              "  }\n",
              "\n",
              "  [theme=dark] .colab-df-quickchart {\n",
              "      --bg-color: #3B4455;\n",
              "      --fill-color: #D2E3FC;\n",
              "      --hover-bg-color: #434B5C;\n",
              "      --hover-fill-color: #FFFFFF;\n",
              "      --disabled-bg-color: #3B4455;\n",
              "      --disabled-fill-color: #666;\n",
              "  }\n",
              "\n",
              "  .colab-df-quickchart {\n",
              "    background-color: var(--bg-color);\n",
              "    border: none;\n",
              "    border-radius: 50%;\n",
              "    cursor: pointer;\n",
              "    display: none;\n",
              "    fill: var(--fill-color);\n",
              "    height: 32px;\n",
              "    padding: 0;\n",
              "    width: 32px;\n",
              "  }\n",
              "\n",
              "  .colab-df-quickchart:hover {\n",
              "    background-color: var(--hover-bg-color);\n",
              "    box-shadow: 0 1px 2px rgba(60, 64, 67, 0.3), 0 1px 3px 1px rgba(60, 64, 67, 0.15);\n",
              "    fill: var(--button-hover-fill-color);\n",
              "  }\n",
              "\n",
              "  .colab-df-quickchart-complete:disabled,\n",
              "  .colab-df-quickchart-complete:disabled:hover {\n",
              "    background-color: var(--disabled-bg-color);\n",
              "    fill: var(--disabled-fill-color);\n",
              "    box-shadow: none;\n",
              "  }\n",
              "\n",
              "  .colab-df-spinner {\n",
              "    border: 2px solid var(--fill-color);\n",
              "    border-color: transparent;\n",
              "    border-bottom-color: var(--fill-color);\n",
              "    animation:\n",
              "      spin 1s steps(1) infinite;\n",
              "  }\n",
              "\n",
              "  @keyframes spin {\n",
              "    0% {\n",
              "      border-color: transparent;\n",
              "      border-bottom-color: var(--fill-color);\n",
              "      border-left-color: var(--fill-color);\n",
              "    }\n",
              "    20% {\n",
              "      border-color: transparent;\n",
              "      border-left-color: var(--fill-color);\n",
              "      border-top-color: var(--fill-color);\n",
              "    }\n",
              "    30% {\n",
              "      border-color: transparent;\n",
              "      border-left-color: var(--fill-color);\n",
              "      border-top-color: var(--fill-color);\n",
              "      border-right-color: var(--fill-color);\n",
              "    }\n",
              "    40% {\n",
              "      border-color: transparent;\n",
              "      border-right-color: var(--fill-color);\n",
              "      border-top-color: var(--fill-color);\n",
              "    }\n",
              "    60% {\n",
              "      border-color: transparent;\n",
              "      border-right-color: var(--fill-color);\n",
              "    }\n",
              "    80% {\n",
              "      border-color: transparent;\n",
              "      border-right-color: var(--fill-color);\n",
              "      border-bottom-color: var(--fill-color);\n",
              "    }\n",
              "    90% {\n",
              "      border-color: transparent;\n",
              "      border-bottom-color: var(--fill-color);\n",
              "    }\n",
              "  }\n",
              "</style>\n",
              "\n",
              "  <script>\n",
              "    async function quickchart(key) {\n",
              "      const quickchartButtonEl =\n",
              "        document.querySelector('#' + key + ' button');\n",
              "      quickchartButtonEl.disabled = true;  // To prevent multiple clicks.\n",
              "      quickchartButtonEl.classList.add('colab-df-spinner');\n",
              "      try {\n",
              "        const charts = await google.colab.kernel.invokeFunction(\n",
              "            'suggestCharts', [key], {});\n",
              "      } catch (error) {\n",
              "        console.error('Error during call to suggestCharts:', error);\n",
              "      }\n",
              "      quickchartButtonEl.classList.remove('colab-df-spinner');\n",
              "      quickchartButtonEl.classList.add('colab-df-quickchart-complete');\n",
              "    }\n",
              "    (() => {\n",
              "      let quickchartButtonEl =\n",
              "        document.querySelector('#df-3c30d1a1-094f-4e54-a663-01c92a9441c6 button');\n",
              "      quickchartButtonEl.style.display =\n",
              "        google.colab.kernel.accessAllowed ? 'block' : 'none';\n",
              "    })();\n",
              "  </script>\n",
              "</div>\n",
              "    </div>\n",
              "  </div>\n"
            ]
          },
          "metadata": {}
        }
      ]
    },
    {
      "cell_type": "markdown",
      "source": [
        "Informações sobre o dataset"
      ],
      "metadata": {
        "id": "KELfXw8Bb0mG"
      }
    },
    {
      "cell_type": "code",
      "source": [
        "df.info()"
      ],
      "metadata": {
        "id": "TrqoTa_rb4Hm"
      },
      "execution_count": null,
      "outputs": []
    },
    {
      "cell_type": "markdown",
      "source": [
        "Descrição do dataset"
      ],
      "metadata": {
        "id": "c_hcl9svcaPz"
      }
    },
    {
      "cell_type": "code",
      "source": [
        "df.describe()"
      ],
      "metadata": {
        "id": "QtoraMsXcch5"
      },
      "execution_count": null,
      "outputs": []
    },
    {
      "cell_type": "markdown",
      "source": [
        "Dimensão do dataset"
      ],
      "metadata": {
        "id": "t5KUFyHicfEp"
      }
    },
    {
      "cell_type": "code",
      "source": [
        "df.shape"
      ],
      "metadata": {
        "id": "IbBLiogOchRX",
        "outputId": "4763c92b-c893-4182-a52f-f022f6701f8c",
        "colab": {
          "base_uri": "https://localhost:8080/"
        }
      },
      "execution_count": null,
      "outputs": [
        {
          "output_type": "execute_result",
          "data": {
            "text/plain": [
              "(3, 3)"
            ]
          },
          "metadata": {},
          "execution_count": 23
        }
      ]
    },
    {
      "cell_type": "markdown",
      "source": [
        "Pegar apenas algumas linhas do dataframe(df)"
      ],
      "metadata": {
        "id": "RBeOBy3uO6S3"
      }
    },
    {
      "cell_type": "code",
      "source": [
        "# Mostrar apenas as 2 primeiras linhas\n",
        "df.head(2)\n",
        "\n",
        "# Default mostra apenas as 5 primeiras linhas\n",
        "#df.head()"
      ],
      "metadata": {
        "id": "oyMexsPoO-JZ"
      },
      "execution_count": null,
      "outputs": []
    },
    {
      "cell_type": "markdown",
      "source": [
        "Ordenando os dados do DF"
      ],
      "metadata": {
        "id": "ttXG_1mR6qnB"
      }
    },
    {
      "cell_type": "code",
      "source": [
        "df3 = df3.sort_values('Capital')\n",
        "#df.sort_values('Capital', inplace=True)\n",
        "\n",
        "display(df3)\n",
        "\n",
        "#Ordenando em ordem decrescente\n",
        "df3 = df3.sort_values('Capital', ascending=False)\n",
        "\n",
        "display(df3.head())"
      ],
      "metadata": {
        "id": "aecJT-AC6tLb",
        "colab": {
          "base_uri": "https://localhost:8080/",
          "height": 270
        },
        "outputId": "cc2989c3-30d3-46d0-d32f-5b733433a915"
      },
      "execution_count": null,
      "outputs": [
        {
          "output_type": "display_data",
          "data": {
            "text/plain": [
              "      País     Capital  População\n",
              "2   Brasil    Brasília     987654\n",
              "0  Bélgica    Bruxelas     123465\n",
              "1    Índia  Nova Delhi     456789"
            ],
            "text/html": [
              "\n",
              "  <div id=\"df-ed8f71db-8bed-4802-ae04-c05814ec0231\" class=\"colab-df-container\">\n",
              "    <div>\n",
              "<style scoped>\n",
              "    .dataframe tbody tr th:only-of-type {\n",
              "        vertical-align: middle;\n",
              "    }\n",
              "\n",
              "    .dataframe tbody tr th {\n",
              "        vertical-align: top;\n",
              "    }\n",
              "\n",
              "    .dataframe thead th {\n",
              "        text-align: right;\n",
              "    }\n",
              "</style>\n",
              "<table border=\"1\" class=\"dataframe\">\n",
              "  <thead>\n",
              "    <tr style=\"text-align: right;\">\n",
              "      <th></th>\n",
              "      <th>País</th>\n",
              "      <th>Capital</th>\n",
              "      <th>População</th>\n",
              "    </tr>\n",
              "  </thead>\n",
              "  <tbody>\n",
              "    <tr>\n",
              "      <th>2</th>\n",
              "      <td>Brasil</td>\n",
              "      <td>Brasília</td>\n",
              "      <td>987654</td>\n",
              "    </tr>\n",
              "    <tr>\n",
              "      <th>0</th>\n",
              "      <td>Bélgica</td>\n",
              "      <td>Bruxelas</td>\n",
              "      <td>123465</td>\n",
              "    </tr>\n",
              "    <tr>\n",
              "      <th>1</th>\n",
              "      <td>Índia</td>\n",
              "      <td>Nova Delhi</td>\n",
              "      <td>456789</td>\n",
              "    </tr>\n",
              "  </tbody>\n",
              "</table>\n",
              "</div>\n",
              "    <div class=\"colab-df-buttons\">\n",
              "\n",
              "  <div class=\"colab-df-container\">\n",
              "    <button class=\"colab-df-convert\" onclick=\"convertToInteractive('df-ed8f71db-8bed-4802-ae04-c05814ec0231')\"\n",
              "            title=\"Convert this dataframe to an interactive table.\"\n",
              "            style=\"display:none;\">\n",
              "\n",
              "  <svg xmlns=\"http://www.w3.org/2000/svg\" height=\"24px\" viewBox=\"0 -960 960 960\">\n",
              "    <path d=\"M120-120v-720h720v720H120Zm60-500h600v-160H180v160Zm220 220h160v-160H400v160Zm0 220h160v-160H400v160ZM180-400h160v-160H180v160Zm440 0h160v-160H620v160ZM180-180h160v-160H180v160Zm440 0h160v-160H620v160Z\"/>\n",
              "  </svg>\n",
              "    </button>\n",
              "\n",
              "  <style>\n",
              "    .colab-df-container {\n",
              "      display:flex;\n",
              "      gap: 12px;\n",
              "    }\n",
              "\n",
              "    .colab-df-convert {\n",
              "      background-color: #E8F0FE;\n",
              "      border: none;\n",
              "      border-radius: 50%;\n",
              "      cursor: pointer;\n",
              "      display: none;\n",
              "      fill: #1967D2;\n",
              "      height: 32px;\n",
              "      padding: 0 0 0 0;\n",
              "      width: 32px;\n",
              "    }\n",
              "\n",
              "    .colab-df-convert:hover {\n",
              "      background-color: #E2EBFA;\n",
              "      box-shadow: 0px 1px 2px rgba(60, 64, 67, 0.3), 0px 1px 3px 1px rgba(60, 64, 67, 0.15);\n",
              "      fill: #174EA6;\n",
              "    }\n",
              "\n",
              "    .colab-df-buttons div {\n",
              "      margin-bottom: 4px;\n",
              "    }\n",
              "\n",
              "    [theme=dark] .colab-df-convert {\n",
              "      background-color: #3B4455;\n",
              "      fill: #D2E3FC;\n",
              "    }\n",
              "\n",
              "    [theme=dark] .colab-df-convert:hover {\n",
              "      background-color: #434B5C;\n",
              "      box-shadow: 0px 1px 3px 1px rgba(0, 0, 0, 0.15);\n",
              "      filter: drop-shadow(0px 1px 2px rgba(0, 0, 0, 0.3));\n",
              "      fill: #FFFFFF;\n",
              "    }\n",
              "  </style>\n",
              "\n",
              "    <script>\n",
              "      const buttonEl =\n",
              "        document.querySelector('#df-ed8f71db-8bed-4802-ae04-c05814ec0231 button.colab-df-convert');\n",
              "      buttonEl.style.display =\n",
              "        google.colab.kernel.accessAllowed ? 'block' : 'none';\n",
              "\n",
              "      async function convertToInteractive(key) {\n",
              "        const element = document.querySelector('#df-ed8f71db-8bed-4802-ae04-c05814ec0231');\n",
              "        const dataTable =\n",
              "          await google.colab.kernel.invokeFunction('convertToInteractive',\n",
              "                                                    [key], {});\n",
              "        if (!dataTable) return;\n",
              "\n",
              "        const docLinkHtml = 'Like what you see? Visit the ' +\n",
              "          '<a target=\"_blank\" href=https://colab.research.google.com/notebooks/data_table.ipynb>data table notebook</a>'\n",
              "          + ' to learn more about interactive tables.';\n",
              "        element.innerHTML = '';\n",
              "        dataTable['output_type'] = 'display_data';\n",
              "        await google.colab.output.renderOutput(dataTable, element);\n",
              "        const docLink = document.createElement('div');\n",
              "        docLink.innerHTML = docLinkHtml;\n",
              "        element.appendChild(docLink);\n",
              "      }\n",
              "    </script>\n",
              "  </div>\n",
              "\n",
              "\n",
              "<div id=\"df-e67c5456-26a2-4a16-8750-6d61a8c6f8d3\">\n",
              "  <button class=\"colab-df-quickchart\" onclick=\"quickchart('df-e67c5456-26a2-4a16-8750-6d61a8c6f8d3')\"\n",
              "            title=\"Suggest charts.\"\n",
              "            style=\"display:none;\">\n",
              "\n",
              "<svg xmlns=\"http://www.w3.org/2000/svg\" height=\"24px\"viewBox=\"0 0 24 24\"\n",
              "     width=\"24px\">\n",
              "    <g>\n",
              "        <path d=\"M19 3H5c-1.1 0-2 .9-2 2v14c0 1.1.9 2 2 2h14c1.1 0 2-.9 2-2V5c0-1.1-.9-2-2-2zM9 17H7v-7h2v7zm4 0h-2V7h2v10zm4 0h-2v-4h2v4z\"/>\n",
              "    </g>\n",
              "</svg>\n",
              "  </button>\n",
              "\n",
              "<style>\n",
              "  .colab-df-quickchart {\n",
              "      --bg-color: #E8F0FE;\n",
              "      --fill-color: #1967D2;\n",
              "      --hover-bg-color: #E2EBFA;\n",
              "      --hover-fill-color: #174EA6;\n",
              "      --disabled-fill-color: #AAA;\n",
              "      --disabled-bg-color: #DDD;\n",
              "  }\n",
              "\n",
              "  [theme=dark] .colab-df-quickchart {\n",
              "      --bg-color: #3B4455;\n",
              "      --fill-color: #D2E3FC;\n",
              "      --hover-bg-color: #434B5C;\n",
              "      --hover-fill-color: #FFFFFF;\n",
              "      --disabled-bg-color: #3B4455;\n",
              "      --disabled-fill-color: #666;\n",
              "  }\n",
              "\n",
              "  .colab-df-quickchart {\n",
              "    background-color: var(--bg-color);\n",
              "    border: none;\n",
              "    border-radius: 50%;\n",
              "    cursor: pointer;\n",
              "    display: none;\n",
              "    fill: var(--fill-color);\n",
              "    height: 32px;\n",
              "    padding: 0;\n",
              "    width: 32px;\n",
              "  }\n",
              "\n",
              "  .colab-df-quickchart:hover {\n",
              "    background-color: var(--hover-bg-color);\n",
              "    box-shadow: 0 1px 2px rgba(60, 64, 67, 0.3), 0 1px 3px 1px rgba(60, 64, 67, 0.15);\n",
              "    fill: var(--button-hover-fill-color);\n",
              "  }\n",
              "\n",
              "  .colab-df-quickchart-complete:disabled,\n",
              "  .colab-df-quickchart-complete:disabled:hover {\n",
              "    background-color: var(--disabled-bg-color);\n",
              "    fill: var(--disabled-fill-color);\n",
              "    box-shadow: none;\n",
              "  }\n",
              "\n",
              "  .colab-df-spinner {\n",
              "    border: 2px solid var(--fill-color);\n",
              "    border-color: transparent;\n",
              "    border-bottom-color: var(--fill-color);\n",
              "    animation:\n",
              "      spin 1s steps(1) infinite;\n",
              "  }\n",
              "\n",
              "  @keyframes spin {\n",
              "    0% {\n",
              "      border-color: transparent;\n",
              "      border-bottom-color: var(--fill-color);\n",
              "      border-left-color: var(--fill-color);\n",
              "    }\n",
              "    20% {\n",
              "      border-color: transparent;\n",
              "      border-left-color: var(--fill-color);\n",
              "      border-top-color: var(--fill-color);\n",
              "    }\n",
              "    30% {\n",
              "      border-color: transparent;\n",
              "      border-left-color: var(--fill-color);\n",
              "      border-top-color: var(--fill-color);\n",
              "      border-right-color: var(--fill-color);\n",
              "    }\n",
              "    40% {\n",
              "      border-color: transparent;\n",
              "      border-right-color: var(--fill-color);\n",
              "      border-top-color: var(--fill-color);\n",
              "    }\n",
              "    60% {\n",
              "      border-color: transparent;\n",
              "      border-right-color: var(--fill-color);\n",
              "    }\n",
              "    80% {\n",
              "      border-color: transparent;\n",
              "      border-right-color: var(--fill-color);\n",
              "      border-bottom-color: var(--fill-color);\n",
              "    }\n",
              "    90% {\n",
              "      border-color: transparent;\n",
              "      border-bottom-color: var(--fill-color);\n",
              "    }\n",
              "  }\n",
              "</style>\n",
              "\n",
              "  <script>\n",
              "    async function quickchart(key) {\n",
              "      const quickchartButtonEl =\n",
              "        document.querySelector('#' + key + ' button');\n",
              "      quickchartButtonEl.disabled = true;  // To prevent multiple clicks.\n",
              "      quickchartButtonEl.classList.add('colab-df-spinner');\n",
              "      try {\n",
              "        const charts = await google.colab.kernel.invokeFunction(\n",
              "            'suggestCharts', [key], {});\n",
              "      } catch (error) {\n",
              "        console.error('Error during call to suggestCharts:', error);\n",
              "      }\n",
              "      quickchartButtonEl.classList.remove('colab-df-spinner');\n",
              "      quickchartButtonEl.classList.add('colab-df-quickchart-complete');\n",
              "    }\n",
              "    (() => {\n",
              "      let quickchartButtonEl =\n",
              "        document.querySelector('#df-e67c5456-26a2-4a16-8750-6d61a8c6f8d3 button');\n",
              "      quickchartButtonEl.style.display =\n",
              "        google.colab.kernel.accessAllowed ? 'block' : 'none';\n",
              "    })();\n",
              "  </script>\n",
              "</div>\n",
              "    </div>\n",
              "  </div>\n"
            ]
          },
          "metadata": {}
        },
        {
          "output_type": "display_data",
          "data": {
            "text/plain": [
              "      País     Capital  População\n",
              "1    Índia  Nova Delhi     456789\n",
              "0  Bélgica    Bruxelas     123465\n",
              "2   Brasil    Brasília     987654"
            ],
            "text/html": [
              "\n",
              "  <div id=\"df-8057828e-8253-4150-aec8-02e2ade9e5c0\" class=\"colab-df-container\">\n",
              "    <div>\n",
              "<style scoped>\n",
              "    .dataframe tbody tr th:only-of-type {\n",
              "        vertical-align: middle;\n",
              "    }\n",
              "\n",
              "    .dataframe tbody tr th {\n",
              "        vertical-align: top;\n",
              "    }\n",
              "\n",
              "    .dataframe thead th {\n",
              "        text-align: right;\n",
              "    }\n",
              "</style>\n",
              "<table border=\"1\" class=\"dataframe\">\n",
              "  <thead>\n",
              "    <tr style=\"text-align: right;\">\n",
              "      <th></th>\n",
              "      <th>País</th>\n",
              "      <th>Capital</th>\n",
              "      <th>População</th>\n",
              "    </tr>\n",
              "  </thead>\n",
              "  <tbody>\n",
              "    <tr>\n",
              "      <th>1</th>\n",
              "      <td>Índia</td>\n",
              "      <td>Nova Delhi</td>\n",
              "      <td>456789</td>\n",
              "    </tr>\n",
              "    <tr>\n",
              "      <th>0</th>\n",
              "      <td>Bélgica</td>\n",
              "      <td>Bruxelas</td>\n",
              "      <td>123465</td>\n",
              "    </tr>\n",
              "    <tr>\n",
              "      <th>2</th>\n",
              "      <td>Brasil</td>\n",
              "      <td>Brasília</td>\n",
              "      <td>987654</td>\n",
              "    </tr>\n",
              "  </tbody>\n",
              "</table>\n",
              "</div>\n",
              "    <div class=\"colab-df-buttons\">\n",
              "\n",
              "  <div class=\"colab-df-container\">\n",
              "    <button class=\"colab-df-convert\" onclick=\"convertToInteractive('df-8057828e-8253-4150-aec8-02e2ade9e5c0')\"\n",
              "            title=\"Convert this dataframe to an interactive table.\"\n",
              "            style=\"display:none;\">\n",
              "\n",
              "  <svg xmlns=\"http://www.w3.org/2000/svg\" height=\"24px\" viewBox=\"0 -960 960 960\">\n",
              "    <path d=\"M120-120v-720h720v720H120Zm60-500h600v-160H180v160Zm220 220h160v-160H400v160Zm0 220h160v-160H400v160ZM180-400h160v-160H180v160Zm440 0h160v-160H620v160ZM180-180h160v-160H180v160Zm440 0h160v-160H620v160Z\"/>\n",
              "  </svg>\n",
              "    </button>\n",
              "\n",
              "  <style>\n",
              "    .colab-df-container {\n",
              "      display:flex;\n",
              "      gap: 12px;\n",
              "    }\n",
              "\n",
              "    .colab-df-convert {\n",
              "      background-color: #E8F0FE;\n",
              "      border: none;\n",
              "      border-radius: 50%;\n",
              "      cursor: pointer;\n",
              "      display: none;\n",
              "      fill: #1967D2;\n",
              "      height: 32px;\n",
              "      padding: 0 0 0 0;\n",
              "      width: 32px;\n",
              "    }\n",
              "\n",
              "    .colab-df-convert:hover {\n",
              "      background-color: #E2EBFA;\n",
              "      box-shadow: 0px 1px 2px rgba(60, 64, 67, 0.3), 0px 1px 3px 1px rgba(60, 64, 67, 0.15);\n",
              "      fill: #174EA6;\n",
              "    }\n",
              "\n",
              "    .colab-df-buttons div {\n",
              "      margin-bottom: 4px;\n",
              "    }\n",
              "\n",
              "    [theme=dark] .colab-df-convert {\n",
              "      background-color: #3B4455;\n",
              "      fill: #D2E3FC;\n",
              "    }\n",
              "\n",
              "    [theme=dark] .colab-df-convert:hover {\n",
              "      background-color: #434B5C;\n",
              "      box-shadow: 0px 1px 3px 1px rgba(0, 0, 0, 0.15);\n",
              "      filter: drop-shadow(0px 1px 2px rgba(0, 0, 0, 0.3));\n",
              "      fill: #FFFFFF;\n",
              "    }\n",
              "  </style>\n",
              "\n",
              "    <script>\n",
              "      const buttonEl =\n",
              "        document.querySelector('#df-8057828e-8253-4150-aec8-02e2ade9e5c0 button.colab-df-convert');\n",
              "      buttonEl.style.display =\n",
              "        google.colab.kernel.accessAllowed ? 'block' : 'none';\n",
              "\n",
              "      async function convertToInteractive(key) {\n",
              "        const element = document.querySelector('#df-8057828e-8253-4150-aec8-02e2ade9e5c0');\n",
              "        const dataTable =\n",
              "          await google.colab.kernel.invokeFunction('convertToInteractive',\n",
              "                                                    [key], {});\n",
              "        if (!dataTable) return;\n",
              "\n",
              "        const docLinkHtml = 'Like what you see? Visit the ' +\n",
              "          '<a target=\"_blank\" href=https://colab.research.google.com/notebooks/data_table.ipynb>data table notebook</a>'\n",
              "          + ' to learn more about interactive tables.';\n",
              "        element.innerHTML = '';\n",
              "        dataTable['output_type'] = 'display_data';\n",
              "        await google.colab.output.renderOutput(dataTable, element);\n",
              "        const docLink = document.createElement('div');\n",
              "        docLink.innerHTML = docLinkHtml;\n",
              "        element.appendChild(docLink);\n",
              "      }\n",
              "    </script>\n",
              "  </div>\n",
              "\n",
              "\n",
              "<div id=\"df-3dfd06c1-553e-4bbd-9b7e-b6c9264b3aab\">\n",
              "  <button class=\"colab-df-quickchart\" onclick=\"quickchart('df-3dfd06c1-553e-4bbd-9b7e-b6c9264b3aab')\"\n",
              "            title=\"Suggest charts.\"\n",
              "            style=\"display:none;\">\n",
              "\n",
              "<svg xmlns=\"http://www.w3.org/2000/svg\" height=\"24px\"viewBox=\"0 0 24 24\"\n",
              "     width=\"24px\">\n",
              "    <g>\n",
              "        <path d=\"M19 3H5c-1.1 0-2 .9-2 2v14c0 1.1.9 2 2 2h14c1.1 0 2-.9 2-2V5c0-1.1-.9-2-2-2zM9 17H7v-7h2v7zm4 0h-2V7h2v10zm4 0h-2v-4h2v4z\"/>\n",
              "    </g>\n",
              "</svg>\n",
              "  </button>\n",
              "\n",
              "<style>\n",
              "  .colab-df-quickchart {\n",
              "      --bg-color: #E8F0FE;\n",
              "      --fill-color: #1967D2;\n",
              "      --hover-bg-color: #E2EBFA;\n",
              "      --hover-fill-color: #174EA6;\n",
              "      --disabled-fill-color: #AAA;\n",
              "      --disabled-bg-color: #DDD;\n",
              "  }\n",
              "\n",
              "  [theme=dark] .colab-df-quickchart {\n",
              "      --bg-color: #3B4455;\n",
              "      --fill-color: #D2E3FC;\n",
              "      --hover-bg-color: #434B5C;\n",
              "      --hover-fill-color: #FFFFFF;\n",
              "      --disabled-bg-color: #3B4455;\n",
              "      --disabled-fill-color: #666;\n",
              "  }\n",
              "\n",
              "  .colab-df-quickchart {\n",
              "    background-color: var(--bg-color);\n",
              "    border: none;\n",
              "    border-radius: 50%;\n",
              "    cursor: pointer;\n",
              "    display: none;\n",
              "    fill: var(--fill-color);\n",
              "    height: 32px;\n",
              "    padding: 0;\n",
              "    width: 32px;\n",
              "  }\n",
              "\n",
              "  .colab-df-quickchart:hover {\n",
              "    background-color: var(--hover-bg-color);\n",
              "    box-shadow: 0 1px 2px rgba(60, 64, 67, 0.3), 0 1px 3px 1px rgba(60, 64, 67, 0.15);\n",
              "    fill: var(--button-hover-fill-color);\n",
              "  }\n",
              "\n",
              "  .colab-df-quickchart-complete:disabled,\n",
              "  .colab-df-quickchart-complete:disabled:hover {\n",
              "    background-color: var(--disabled-bg-color);\n",
              "    fill: var(--disabled-fill-color);\n",
              "    box-shadow: none;\n",
              "  }\n",
              "\n",
              "  .colab-df-spinner {\n",
              "    border: 2px solid var(--fill-color);\n",
              "    border-color: transparent;\n",
              "    border-bottom-color: var(--fill-color);\n",
              "    animation:\n",
              "      spin 1s steps(1) infinite;\n",
              "  }\n",
              "\n",
              "  @keyframes spin {\n",
              "    0% {\n",
              "      border-color: transparent;\n",
              "      border-bottom-color: var(--fill-color);\n",
              "      border-left-color: var(--fill-color);\n",
              "    }\n",
              "    20% {\n",
              "      border-color: transparent;\n",
              "      border-left-color: var(--fill-color);\n",
              "      border-top-color: var(--fill-color);\n",
              "    }\n",
              "    30% {\n",
              "      border-color: transparent;\n",
              "      border-left-color: var(--fill-color);\n",
              "      border-top-color: var(--fill-color);\n",
              "      border-right-color: var(--fill-color);\n",
              "    }\n",
              "    40% {\n",
              "      border-color: transparent;\n",
              "      border-right-color: var(--fill-color);\n",
              "      border-top-color: var(--fill-color);\n",
              "    }\n",
              "    60% {\n",
              "      border-color: transparent;\n",
              "      border-right-color: var(--fill-color);\n",
              "    }\n",
              "    80% {\n",
              "      border-color: transparent;\n",
              "      border-right-color: var(--fill-color);\n",
              "      border-bottom-color: var(--fill-color);\n",
              "    }\n",
              "    90% {\n",
              "      border-color: transparent;\n",
              "      border-bottom-color: var(--fill-color);\n",
              "    }\n",
              "  }\n",
              "</style>\n",
              "\n",
              "  <script>\n",
              "    async function quickchart(key) {\n",
              "      const quickchartButtonEl =\n",
              "        document.querySelector('#' + key + ' button');\n",
              "      quickchartButtonEl.disabled = true;  // To prevent multiple clicks.\n",
              "      quickchartButtonEl.classList.add('colab-df-spinner');\n",
              "      try {\n",
              "        const charts = await google.colab.kernel.invokeFunction(\n",
              "            'suggestCharts', [key], {});\n",
              "      } catch (error) {\n",
              "        console.error('Error during call to suggestCharts:', error);\n",
              "      }\n",
              "      quickchartButtonEl.classList.remove('colab-df-spinner');\n",
              "      quickchartButtonEl.classList.add('colab-df-quickchart-complete');\n",
              "    }\n",
              "    (() => {\n",
              "      let quickchartButtonEl =\n",
              "        document.querySelector('#df-3dfd06c1-553e-4bbd-9b7e-b6c9264b3aab button');\n",
              "      quickchartButtonEl.style.display =\n",
              "        google.colab.kernel.accessAllowed ? 'block' : 'none';\n",
              "    })();\n",
              "  </script>\n",
              "</div>\n",
              "    </div>\n",
              "  </div>\n"
            ]
          },
          "metadata": {}
        }
      ]
    },
    {
      "cell_type": "markdown",
      "source": [
        "Descrição dos ÍNDICES e COLUNAS"
      ],
      "metadata": {
        "id": "KyhK4F1bkA-f"
      }
    },
    {
      "cell_type": "code",
      "source": [
        "display(df.index)\n",
        "\n",
        "display(df.columns)"
      ],
      "metadata": {
        "id": "FOcq7-oFkFjF"
      },
      "execution_count": null,
      "outputs": []
    },
    {
      "cell_type": "markdown",
      "source": [
        "Uso do \"loc\" e \"iloc\"\n",
        "\n",
        "loc é usado para selecionarmos linhas e colunas usando o label\n",
        "\n",
        "iloc é usado para cessar as linhas e colunas pelo índice"
      ],
      "metadata": {
        "id": "XpZPV3anNK3L"
      }
    },
    {
      "cell_type": "code",
      "source": [
        "\n",
        "print(df.columns.values, '\\n')\n",
        "\n",
        "print(df.loc[:,'Capital'], '\\n') # qualquer linha, coluna Capital\n",
        "print(df.loc[1,'Capital'], '\\n') # linha 1, coluna 'Capital'\n",
        "\n",
        "print(df.iloc[:,1], '\\n') # qualquer linha, coluna 1\n",
        "print(df.iloc[1,1], '\\n') # linha 1, coluna 1"
      ],
      "metadata": {
        "id": "MpfJYQGaNbTP"
      },
      "execution_count": null,
      "outputs": []
    },
    {
      "cell_type": "markdown",
      "source": [
        "Removendo linhas/colunas"
      ],
      "metadata": {
        "id": "spPiJI0kiv9X"
      }
    },
    {
      "cell_type": "code",
      "source": [
        "#df.drop('Capital') #ERRO\n",
        "# Apaga a coluna 'Capital' inteira\n",
        "df3.drop('Capital', axis=1)\n",
        "\n",
        "# Apaga a linha 1 inteira\n",
        "df3.drop(1)\n",
        "\n",
        "# Para contar a quantidade de valores iguais de uma coluna 'NaN'\n",
        "coluna = df2['deck']\n",
        "cont_nan = coluna.isna().sum()\n",
        "\n",
        "# 'dropna' remove as linhas que contem NaN como valores\n",
        "df2 = df2.dropna()\n",
        "\n",
        "# Para as Features(X), são todas as demais colunas do Target(y)\n",
        "X = df2.drop(18, axis=1)\n",
        "\n",
        "#display(df)\n",
        "print('Quantidade de Linhas que contem NaN')\n",
        "print(\"Total NaN: \" + str(cont_nan))"
      ],
      "metadata": {
        "id": "O8fMtH4oOKrM"
      },
      "execution_count": null,
      "outputs": []
    },
    {
      "cell_type": "markdown",
      "source": [
        "Nova Coluna em um DataFrame"
      ],
      "metadata": {
        "id": "k-eGyfkdIIoc"
      }
    },
    {
      "cell_type": "code",
      "source": [
        "df['Nova Coluna'] = 0\n",
        "\n",
        "df.head(10)"
      ],
      "metadata": {
        "id": "V3qG2NrXIL73"
      },
      "execution_count": null,
      "outputs": []
    },
    {
      "cell_type": "markdown",
      "source": [
        "Nova Linha em um DataFrame"
      ],
      "metadata": {
        "id": "pqqNdodjvj9O"
      }
    },
    {
      "cell_type": "code",
      "source": [
        "cols =  ['País', 'Capital', 'População']\n",
        "\n",
        "new_line = ['Argentina','Buenos Aires',153700]\n",
        "new_line = pd.DataFrame([new_line], columns=cols)\n",
        "\n",
        "df = pd.concat([df,new_line],ignore_index = True)\n",
        "\n",
        "df.head(10)"
      ],
      "metadata": {
        "id": "PGCD1XN6vm8e"
      },
      "execution_count": null,
      "outputs": []
    },
    {
      "cell_type": "markdown",
      "source": [
        "Resumo dos Dados"
      ],
      "metadata": {
        "id": "n6WnAlqCzQK1"
      }
    },
    {
      "cell_type": "code",
      "source": [
        "#Soma dos valores de um DataFrame\n",
        "print(df.sum(),'\\n')\n",
        "\n",
        "#Menor valor de um DataFrame\n",
        "print(df.min(),'\\n')\n",
        "\n",
        "#Maior valor\n",
        "print(df.max(),'\\n')\n",
        "\n",
        "#Média dos valores\n",
        "print(df.mean(),'\\n')\n",
        "\n",
        "#Mediana dos valores\n",
        "print(df.median(),'\\n')"
      ],
      "metadata": {
        "id": "VmI9rv5JzRoY"
      },
      "execution_count": null,
      "outputs": []
    },
    {
      "cell_type": "markdown",
      "source": [
        "Filtragem do DataFrame"
      ],
      "metadata": {
        "id": "A4GzGzDm0Di_"
      }
    },
    {
      "cell_type": "code",
      "source": [
        "df[df['População'] % 2 == 0]"
      ],
      "metadata": {
        "id": "mCAL-1Ep0Fgv"
      },
      "execution_count": null,
      "outputs": []
    },
    {
      "cell_type": "markdown",
      "source": [
        "### Funções Importantes - Scikit Learning"
      ],
      "metadata": {
        "id": "nRsfjpMStW0c"
      }
    },
    {
      "cell_type": "markdown",
      "source": [
        "Normalização de uma Coluna"
      ],
      "metadata": {
        "id": "7ngkEKOVtq_3"
      }
    },
    {
      "cell_type": "code",
      "source": [
        "# Importes necessários\n",
        "from sklearn.preprocessing import MinMaxScaler\n",
        "import pandas as pd\n",
        "import numpy as np\n",
        "\n",
        "data = {\n",
        "'País': ['Bélgica', 'Índia', 'Brasil'],\n",
        "'Capital': ['Bruxelas', 'Nova Delhi', 'Brasília'],\n",
        "'População': [123465, 456789, 987654]\n",
        "}\n",
        "\n",
        "df = pd.DataFrame(data, columns=['País','Capital','População'])\n",
        "\n",
        "# Normalização: Deixar os valores entre 0 e 1\n",
        "# O uso de -1 indica que vc não sabe o tamanho da dimensão. A matrix vai se ajustar automaticamente\n",
        "# Normalizando uma coluna, pode ser por 'Nome' ou 'id'\n",
        "df['País'] = MinMaxScaler().fit_transform(np.array(df['País']).reshape(-1,1))\n",
        "df['Capital'] = MinMaxScaler().fit_transform(np.array(df['Capital']).reshape(-1,1))\n",
        "df['População'] = MinMaxScaler().fit_transform(np.array(df['População']).reshape(-1,1))\n",
        "\n",
        "# Normalizar cada coluna de 'X' com alteração do db original\n",
        "df[1] = MinMaxScaler().fit_transform(np.array(df[1]).reshape(-1,1))\n",
        "df[2] = MinMaxScaler().fit_transform(np.array(df[2]).reshape(-1,1))\n",
        "df[3] = MinMaxScaler().fit_transform(np.array(df[3]).reshape(-1,1))\n",
        "df[4] = MinMaxScaler().fit_transform(np.array(df[4]).reshape(-1,1))\n",
        "\n",
        "# Normalizar cada coluna de 'X' com altração do clone do db\n",
        "X['speeding'] = MinMaxScaler().fit_transform(np.array(X['speeding']).reshape(-1,1))\n",
        "X['alcohol'] = MinMaxScaler().fit_transform(np.array(X['alcohol']).reshape(-1,1))\n",
        "X['not_distracted'] = MinMaxScaler().fit_transform(np.array(X['not_distracted']).reshape(-1,1))\n",
        "X['no_previous'] = MinMaxScaler().fit_transform(np.array(X['no_previous']).reshape(-1,1))\n",
        "X['ins_premium'] = MinMaxScaler().fit_transform(np.array(X['ins_premium']).reshape(-1,1))\n",
        "X['ins_losses'] = MinMaxScaler().fit_transform(np.array(X['ins_losses']).reshape(-1,1))\n",
        "\n",
        "# Normalizando todo o 'X' de uma só vez quando a Target(y) é a coluna '0'\n",
        "X[df2.columns[1:]] = MinMaxScaler().fit_transform(df2[df2.columns[1:]])\n",
        "\n",
        "# Normalizando todo o 'X' de uma só vez quando foi definido quais colunas é Features(X)\n",
        "dfx = X.values\n",
        "min_max_scaler = preprocessing.MinMaxScaler()\n",
        "x_scaled = min_max_scaler.fit_transform(dfx)\n",
        "X = pd.DataFrame(x_scaled)\n",
        "\n",
        "df.head(10)\n",
        "#df2.head(10)\n",
        "#X.head(10)"
      ],
      "metadata": {
        "id": "9DVPFczUtwyh"
      },
      "execution_count": null,
      "outputs": []
    },
    {
      "cell_type": "markdown",
      "source": [
        "Label Encoder de uma Coluna"
      ],
      "metadata": {
        "id": "7T-pUO0I8f3N"
      }
    },
    {
      "cell_type": "code",
      "source": [
        "# Importes necessários\n",
        "from sklearn import preprocessing\n",
        "import pandas as pd\n",
        "from sklearn.compose import make_column_transformer\n",
        "\n",
        "df = pd.DataFrame(data = df)\n",
        "\n",
        "# Selecionar as colunas para realizar as transformações\n",
        "# Label Encoder usado para Target(y), cada valor da coluna corresponde a um nímero que inicia no '0'\n",
        "label_encoder = preprocessing.LabelEncoder()\n",
        "\n",
        "# Alteração ocorrerá no db original\n",
        "df['sex'] = label_encoder.fit_transform(df['sex'])\n",
        "df['adult_male'] = label_encoder.fit_transform(df['adult_male'])\n",
        "df['alive'] = label_encoder.fit_transform(df['alive'])\n",
        "df['alone'] = label_encoder.fit_transform(df['alone'])\n",
        "\n",
        "# Alteração ocorrerá no clone do db original\n",
        "y = label_encoder.fit_transform(df['sex'])\n",
        "\n",
        "df.head(10)\n",
        "#y.head(10)"
      ],
      "metadata": {
        "id": "HqMnynhL8of0"
      },
      "execution_count": null,
      "outputs": []
    },
    {
      "cell_type": "markdown",
      "source": [
        "One Hot Encoder de uma Coluna"
      ],
      "metadata": {
        "id": "zg744ORq86WM"
      }
    },
    {
      "cell_type": "code",
      "source": [
        "# Importes necessários\n",
        "from sklearn import preprocessing\n",
        "import pandas as pd\n",
        "from sklearn.preprocessing import OneHotEncoder\n",
        "\n",
        "df = pd.DataFrame(data = df)\n",
        "\n",
        "# One Hot Encoder usado para as Features(X), onde cada valor da coluna vai gerar uma nova coluna, onde esta fica com código binário\n",
        "# Colunas 0, 1, 2 = 'embarked', colunas 3, 4, 5 = 'who', colunas 6, 7, 8 = 'embark_town\n",
        "# Coluna 9 = 'survived', coluna 10 = 'pclass'\n",
        "# Coluna 11 = 'sex', coluna 12 = 'age', coluna 13 = 'sibsp', coluna 14 = 'parch'\n",
        "# Coluna 15 = 'fare', coluna 16 = 'adult_male', coluna 17 = 'alive', coluna 18 = 'alone'\n",
        "one_hot_encoder = make_column_transformer((OneHotEncoder(), ['embarked','who', 'embark_town']), remainder='passthrough')\n",
        "# ou\n",
        "one_hot_encoder = pd.get_dummies(df, columns = ['embarked','who', 'embark_town'])\n",
        "\n",
        "# Transforando os valores categóricos para one_hot_encoder em todo df\n",
        "df = one_hot_encoder.fit_transform(df)\n",
        "\n",
        "# Para visualizar o banco de uma forma estilizada do Pandas\n",
        "df = pd.DataFrame(data = df)\n",
        "\n",
        "df.head(10)"
      ],
      "metadata": {
        "id": "OyLhJ7E-9O6G"
      },
      "execution_count": null,
      "outputs": []
    },
    {
      "cell_type": "markdown",
      "source": [
        "De categórico para numérico"
      ],
      "metadata": {
        "id": "6gW5EwE-yFSz"
      }
    },
    {
      "cell_type": "code",
      "source": [
        "# Importes necessários\n",
        "from sklearn.preprocessing import LabelBinarizer\n",
        "\n",
        "teste = LabelBinarizer().fit_transform(df['Capital'])\n",
        "\n",
        "new_df = pd.DataFrame(teste)\n",
        "\n",
        "# concatena na coluna com axis=1, default axis=0\n",
        "df_final = pd.concat([df,new_df],axis=1)\n",
        "\n",
        "df_final = df_final.drop('Capital',axis=1)\n",
        "\n",
        "df_final"
      ],
      "metadata": {
        "id": "hw5yiDXQyJCA"
      },
      "execution_count": null,
      "outputs": []
    },
    {
      "cell_type": "markdown",
      "source": [
        "Transformar de DataFrame ou Series para LIST PYTHON"
      ],
      "metadata": {
        "id": "4jijU7ir95Js"
      }
    },
    {
      "cell_type": "code",
      "source": [
        "df.values.tolist()"
      ],
      "metadata": {
        "id": "LZavMtCp99Vs",
        "outputId": "149d8645-df31-4178-f605-4213e58de938",
        "colab": {
          "base_uri": "https://localhost:8080/"
        }
      },
      "execution_count": null,
      "outputs": [
        {
          "output_type": "execute_result",
          "data": {
            "text/plain": [
              "[['Bélgica', 'Bruxelas', 0.0],\n",
              " ['Índia', 'Nova Delhi', 0.38570729319628],\n",
              " ['Brasil', 'Brasília', 1.0]]"
            ]
          },
          "metadata": {},
          "execution_count": 46
        }
      ]
    },
    {
      "cell_type": "markdown",
      "source": [
        "### NumPy"
      ],
      "metadata": {
        "id": "OPGRYMI_72Sw"
      }
    },
    {
      "cell_type": "markdown",
      "source": [
        "ARRAY: Transformar um DataFrame ou Serie em Array"
      ],
      "metadata": {
        "id": "21yyGB209nkq"
      }
    },
    {
      "cell_type": "code",
      "source": [
        "# Importes necessários\n",
        "import numpy as np\n",
        "\n",
        "pop = df['População']\n",
        "\n",
        "pop_array = np.array(pop)\n",
        "\n",
        "pop_array[0]"
      ],
      "metadata": {
        "id": "LC47gRr776Fd"
      },
      "execution_count": null,
      "outputs": []
    },
    {
      "cell_type": "markdown",
      "source": [
        "ARRAY de Zeros"
      ],
      "metadata": {
        "id": "6POP9e_G-PxP"
      }
    },
    {
      "cell_type": "code",
      "source": [
        "# Importes necessários\n",
        "import numpy as np\n",
        "\n",
        "matrix_zeros = np.zeros((4,3))\n",
        "\n",
        "matrix_zeros"
      ],
      "metadata": {
        "id": "R3tpK-Eu-RpX",
        "colab": {
          "base_uri": "https://localhost:8080/"
        },
        "outputId": "5e4a9dc0-a9b1-4ce4-b227-136946391fb4"
      },
      "execution_count": null,
      "outputs": [
        {
          "output_type": "execute_result",
          "data": {
            "text/plain": [
              "array([[0., 0., 0.],\n",
              "       [0., 0., 0.],\n",
              "       [0., 0., 0.],\n",
              "       [0., 0., 0.]])"
            ]
          },
          "metadata": {},
          "execution_count": 7
        }
      ]
    },
    {
      "cell_type": "markdown",
      "source": [
        "ARRAY de 1"
      ],
      "metadata": {
        "id": "7JQAjDca-nOs"
      }
    },
    {
      "cell_type": "code",
      "source": [
        "# Importes necessários\n",
        "import numpy as np\n",
        "\n",
        "matrix_ones = np.ones((4,3))\n",
        "\n",
        "matrix_ones"
      ],
      "metadata": {
        "id": "LVMw37G6-qCk",
        "colab": {
          "base_uri": "https://localhost:8080/"
        },
        "outputId": "1fb0a3d2-1418-4d74-a7b9-cfe41e424292"
      },
      "execution_count": null,
      "outputs": [
        {
          "output_type": "execute_result",
          "data": {
            "text/plain": [
              "array([[1., 1., 1.],\n",
              "       [1., 1., 1.],\n",
              "       [1., 1., 1.],\n",
              "       [1., 1., 1.]])"
            ]
          },
          "metadata": {},
          "execution_count": 8
        }
      ]
    },
    {
      "cell_type": "markdown",
      "source": [
        "Ordenação"
      ],
      "metadata": {
        "id": "K2yxGzJb_Bar"
      }
    },
    {
      "cell_type": "code",
      "source": [
        "# Importes necessários\n",
        "import numpy as np\n",
        "\n",
        "arr = np.array([3,1,0,9,4,7])\n",
        "\n",
        "np.sort(arr)"
      ],
      "metadata": {
        "id": "ZWgnNAj5_C69",
        "colab": {
          "base_uri": "https://localhost:8080/"
        },
        "outputId": "8b5f232e-28d7-47e5-cdd1-a5cbc306c41a"
      },
      "execution_count": null,
      "outputs": [
        {
          "output_type": "execute_result",
          "data": {
            "text/plain": [
              "array([0, 1, 3, 4, 7, 9])"
            ]
          },
          "metadata": {},
          "execution_count": 9
        }
      ]
    },
    {
      "cell_type": "markdown",
      "source": [
        "# Tipos Algoritimos Modelos para Classificação e Regreção"
      ],
      "metadata": {
        "id": "5GFDvi7vNGNd"
      }
    },
    {
      "cell_type": "markdown",
      "source": [
        "Separar colunas Target(y)"
      ],
      "metadata": {
        "id": "OaojKki6NSzB"
      }
    },
    {
      "cell_type": "code",
      "source": [
        "# A colula Target(y) é a coluna com 'id'\n",
        "y = df[10]\n",
        "\n",
        "# A colula Target(y) é a coluna com 'nomeColuna'\n",
        "y = df2['alive']\n",
        "\n",
        "# A coluna Target(y) é uma copia da coluna 'total' do df\n",
        "y = df['total'].copy()\n",
        "\n",
        "y.head(10)"
      ],
      "metadata": {
        "id": "c3Y7VsxHJ434"
      },
      "execution_count": null,
      "outputs": []
    },
    {
      "cell_type": "markdown",
      "source": [
        "Separar colunas Features(X)"
      ],
      "metadata": {
        "id": "o5Y8M4EU_hHN"
      }
    },
    {
      "cell_type": "code",
      "source": [
        "# A Features(X) são todas as colunas exceto a coluna de 'y' com 'id'\n",
        "# Para esta condição, considear que 'y' é uma coluna diferente de '0'\n",
        "X = df.drop(10, axis=1)\n",
        "\n",
        "# A Features(X) são todas as colunas exceto a coluna de 'y' com 'nomeColuna'\n",
        "# Para esta condição, considear que 'y' é uma coluna diferente de '0'\n",
        "X = df2.drop('alive', axis=1)\n",
        "\n",
        "# Definir os valores para Features(X), onde: ':' = qualquer linha, '1' = a partir da coluna 1, 'columns-1' = até a ultima coluna\n",
        "# Para esta condição, considear que 'y' é a coluna '0'\n",
        "X = df.loc[:,1:columns-1]\n",
        "\n",
        "# A Features(X) são todas as colunas a partir da coluna 1 até a coluna 7(onde o '7' não entra no intervalo), onde X é uma cópia do df\n",
        "# Para esta condição, considear que 'y' é a coluna '0'\n",
        "X = df.iloc[:,1:7].copy()\n",
        "\n",
        "# A Features(X) são todas as colunas a partir da coluna 1\n",
        "# Para esta condição, considear que 'y' é a coluna '0'\n",
        "X = df.iloc[:,1]\n",
        "\n",
        "X.head(10)"
      ],
      "metadata": {
        "id": "fiX0rte9_jtV"
      },
      "execution_count": null,
      "outputs": []
    },
    {
      "cell_type": "markdown",
      "source": [
        "Separar dados de Treinamento(80%) e Testes(20%) para Classificação"
      ],
      "metadata": {
        "id": "rUfUKyphNWpZ"
      }
    },
    {
      "cell_type": "code",
      "source": [
        "# Importes necessários\n",
        "from sklearn.model_selection import train_test_split\n",
        "\n",
        "# Realizar Treinamento/Teste com Classificação\n",
        "# Testes, 'stratify' é para manter a proporção do origibal, apenas para Classificação\n",
        "# 80% do Dataset é treino e 20%(test_size=0.2 = 30 dados) teste\n",
        "# X e y foi definido anteriormente\n",
        "# Serparar os dados para Classificação, possue 'stratify = y'\n",
        "\n",
        "# Para os dados vindos do 'seaborn' usar:  'X_train, y_train, X_test, y_test'\n",
        "res = train_test_split(X, y, train_size=0.8, test_size=0.2, random_state=None, stratify = y)\n",
        "X_train, X_test, y_train, y_test = res\n",
        "# ou X_train, X_test, y_train, y_test = train_test_split(X, y, test_size = 0.2, random_state = None, stratify = y)\n",
        "\n",
        "# X_train = train_data\n",
        "# X_test = test_data\n",
        "# y_train = train_labels\n",
        "# y_test = test_labels\n",
        "\n",
        "# Para os dados vindos do 'gitlearn' usar: 'train_data, train_labels, test_data, test_labels'\n",
        "res = train_test_split(X, y, train_size=0.8, test_size=0.2, random_state=None, stratify = y)\n",
        "train_data, test_data, train_labels, test_labels = res\n",
        "# ou train_data, test_data, train_labels, test_labels = train_test_split(X, y, test_size = 0.2, random_state = None, stratify = y)\n",
        "\n",
        "# Para mostrar as linhas de testes, head default = 5 linhas\n",
        "#y_train.head()"
      ],
      "metadata": {
        "id": "vHMxtqs1O0gF"
      },
      "execution_count": null,
      "outputs": []
    },
    {
      "cell_type": "markdown",
      "source": [
        "Separar dados de Treinamento(80%) e Testes(20%) para Regressão"
      ],
      "metadata": {
        "id": "EV3arqHg8ovY"
      }
    },
    {
      "cell_type": "code",
      "source": [
        "# Importes necessários\n",
        "from sklearn.model_selection import train_test_split\n",
        "\n",
        "# Realizar Treinamento/Teste com Regressão\n",
        "# Para os dados vindos do 'gitlearn' usar: 'train_data, train_labels, test_data, test_labels'\n",
        "# Para os dados vindos do 'seaborn' usar:  'X_train, y_train, X_test, y_test'\n",
        "# 80% do Dataset é treino e 20%(test_size=0.2 = 30 dados) teste\n",
        "# Separar dados para Regressão, não possue 'stratify = y'\n",
        "\n",
        "# Para os dados vindos do 'seaborn' usar:  'X_train, y_train, X_test, y_test'\n",
        "res = train_test_split(X, y, train_size=0.8, test_size=0.2, random_state=None)\n",
        "X_train, X_test, y_train, y_test = res\n",
        "# ou X_train, X_test, y_train, y_test = train_test_split(X, y, test_size = 0.2, random_state = None)\n",
        "\n",
        "# X_train = train_data\n",
        "# X_test = test_data\n",
        "# y_train = train_labels\n",
        "# y_test = test_labels\n",
        "\n",
        "# Para os dados vindos do 'gitlearn' usar: 'train_data, train_labels, test_data, test_labels'\n",
        "res = train_test_split(X, y, train_size=0.8, test_size=0.2, random_state=None)\n",
        "train_data, test_data, train_labels, test_labels = res\n",
        "# ou train_data, test_data, train_labels, test_labels = train_test_split(X, y, test_size = 0.2, random_state = None)\n",
        "\n",
        "# Para mostrar as linhas de testes, head default = 5 linhas\n",
        "#y_train.head()"
      ],
      "metadata": {
        "id": "FFBC8Kcj82OQ"
      },
      "execution_count": null,
      "outputs": []
    },
    {
      "cell_type": "markdown",
      "source": [
        "Modelo Linear para Regressão"
      ],
      "metadata": {
        "id": "MIW3j87Rblw8"
      }
    },
    {
      "cell_type": "code",
      "source": [
        "# Importes necessários\n",
        "from sklearn.metrics import mean_squared_error, r2_score\n",
        "from sklearn import datasets, linear_model\n",
        "\n",
        "# Modelo Linear para Regressão\n",
        "model1 = linear_model.LinearRegression()\n",
        "\n",
        "# Treinameto dos dados com Modelo Linear para Regressão\n",
        "treino1 = model1.fit(train_data, train_labels) # ou treino1 = model1.fit(X_train, y_train)\n",
        "\n",
        "# Resultados dos Testes\n",
        "predictions1 = treino1.predict(test_data) # ou predictions1 = treino1.predict(X_test)\n",
        "\n",
        "print('Modelo Regreção Linear')\n",
        "print('Resultado Erro: ' + str(mean_squared_error(test_labels, predictions1)))\n",
        "# ou print('Resultado Erro: ' + str(mean_squared_error(y_test, predictions1)))"
      ],
      "metadata": {
        "id": "dHBHj9JebrQT"
      },
      "execution_count": null,
      "outputs": []
    },
    {
      "cell_type": "markdown",
      "source": [
        "Modelo Regressão Logística para Classificação"
      ],
      "metadata": {
        "id": "tBmuRimESTaD"
      }
    },
    {
      "cell_type": "code",
      "source": [
        "# Importes necessários\n",
        "from sklearn.metrics import mean_squared_error, r2_score\n",
        "from sklearn.linear_model import LogisticRegression\n",
        "#from sklearn import datasets, linear_model\n",
        "from sklearn import metrics\n",
        "\n",
        "# Modelo Lógico para Regressão\n",
        "model9 = LogisticRegression()\n",
        "\n",
        "# Treinameto dos dados com Modelo Linear para Regressão\n",
        "treino9 = model9.fit(train_data, train_labels) # ou treino9 = model9.fit(X_train, y_train)\n",
        "\n",
        "# Resultados dos Testes\n",
        "predictions9 = treino9.predict(test_data) # ou predictions9 = treino9.predict(X_test)\n",
        "\n",
        "# Para mostrar a acurácia dos Testes/Treinamento em '%', apenas para Classificação\n",
        "acc9 = metrics.accuracy_score(predictions9, test_labels) # ou acc9 = metrics.accuracy_score(predictions9, y_test)\n",
        "# \"{:.3f}\" daixa o valor com 3 casas decimais\n",
        "show9 = \"{:.3f}\".format(acc9*100) # ou show9 = round(acc9 * 100)\n",
        "\n",
        "print('Modelo Regreção Logistica para Classificação')\n",
        "print(\"Regreção Logistica para Classificação \" + \"Acurrácia: {}%\".format(show9)) # ou print(\"Acurrácia: {}%\".format(show9))\n",
        "print(list(predictions9))\n",
        "print(list(test_labels)) # ou print(list(y_test))"
      ],
      "metadata": {
        "id": "KX93xkC8SX4J"
      },
      "execution_count": null,
      "outputs": []
    },
    {
      "cell_type": "markdown",
      "source": [
        "Modelo Árvore Decisão para Regressão"
      ],
      "metadata": {
        "id": "3t_ZRhR7bzbU"
      }
    },
    {
      "cell_type": "code",
      "source": [
        "# Importes necessários\n",
        "from sklearn.tree import DecisionTreeRegressor\n",
        "\n",
        "# Árvore Decisão para Regressão\n",
        "model2 = DecisionTreeRegressor()\n",
        "\n",
        "# Treinameto dos dados com Árvore Decisão para Regressão\n",
        "treino2 = model2.fit(train_data, train_labels)\n",
        "# ou treino2 = model2.fit(X_train, y_train)\n",
        "\n",
        "# Resultados dos Testes\n",
        "predictions2 = treino2.predict(test_data)\n",
        "# ou predictions2 = treino2.predict(X_test)\n",
        "\n",
        "print('Modelo Regreção Árvore Decisão')\n",
        "print('Resultado Erro: ' + str(mean_squared_error(test_labels, predictions2)))\n",
        "# ou print('Resultado Erro: ' + str(mean_squared_error(y_test, predictions2)))"
      ],
      "metadata": {
        "id": "P3X3THocb2ND"
      },
      "execution_count": null,
      "outputs": []
    },
    {
      "cell_type": "markdown",
      "source": [
        "Modelo Árvode Decisão para Classificação"
      ],
      "metadata": {
        "id": "RyvG75vgt_EM"
      }
    },
    {
      "cell_type": "code",
      "source": [
        "# Importes necessários\n",
        "from sklearn.tree import DecisionTreeClassifier\n",
        "\n",
        "# Árvore de Decisão com entropy para Classificação\n",
        "model5 = DecisionTreeClassifier(criterion = \"entropy\")\n",
        "# Árvore de Decisão com profundidade limitada para Classificação\n",
        "model6 = DecisionTreeClassifier(max_depth = 3)\n",
        "\n",
        "# Treinameto dos dados com Árvore de Decesão\n",
        "treino5 = model5.fit(train_data, train_labels) # ou treino5 = model5.fit(X_train, y_train)\n",
        "treino6 = model6.fit(train_data, train_labels) # ou treino6 = model6.fit(X_train, y_train)\n",
        "\n",
        "# Resultados dos Testes\n",
        "predictions5 = treino5.predict(test_data) # ou predictions5 = treino5.predict(X_test)\n",
        "predictions6 = treino6.predict(test_data) # ou predictions6 = treino6.predict(X_test)\n",
        "\n",
        "# Para mostrar a acurácia dos Testes/Treinamento em '%', apenas para Classificação\n",
        "acc5 = metrics.accuracy_score(predictions5, test_labels) # ou acc5 = metrics.accuracy_score(predictions5, test_labels)\n",
        "# \"{:.3f}\" daixa o valor com 3 casas decimais\n",
        "show5 = round(acc5 * 100)\n",
        "acc6 = metrics.accuracy_score(predictions6, test_labels) # ou acc6 = metrics.accuracy_score(predictions6, test_labels)\n",
        "show6 = round(acc6 * 100)\n",
        "\n",
        "print('Modelo Classificação Árvore Decisão')\n",
        "print(\"Árvore Decisão Profundidade livre \" + \"Acurrácia: {}%\".format(show5)) # ou print(\"Acurrácia: {}%\".format(show5))\n",
        "print(list(predictions5))\n",
        "print(list(test_labels)) # ou print(list(y_test))\n",
        "print('*'*40)\n",
        "print('Modelo Classificação Árvore Decisão, controle Profundidade')\n",
        "print(\"Árvore Decisão Profundidade 3 \" + \"Acurrácia: {}%\".format(show6)) # ou print(\"Acurrácia: {}%\".format(show6))\n",
        "print(list(predictions6))\n",
        "print(list(test_labels)) # ou print(list(y_test))"
      ],
      "metadata": {
        "id": "B4r1EekBuEQL"
      },
      "execution_count": null,
      "outputs": []
    },
    {
      "cell_type": "markdown",
      "source": [
        "Modelo K-NN para Regressão"
      ],
      "metadata": {
        "id": "j7u4TAH6b93e"
      }
    },
    {
      "cell_type": "code",
      "source": [
        "# Importes necessários\n",
        "from sklearn.neighbors import KNeighborsRegressor\n",
        "\n",
        "# K-NN com Regressão\n",
        "model3 = KNeighborsRegressor()\n",
        "\n",
        "# Treinamento com K-NN para Regressão\n",
        "treino3 = model3.fit(train_data, train_labels) # ou treino3 = model3.fit(X_train, y_train)\n",
        "\n",
        "# Resultados dos Testes\n",
        "predictions3 = treino3.predict(test_data) # ou predictions3 = treino3.predict(X_test)\n",
        "\n",
        "print('Modelo Regreção K-NN')\n",
        "print('Resultado Erro: ' + str(mean_squared_error(test_labels, predictions3)))\n",
        "# ou print('Resultado Erro: ' + str(mean_squared_error(y_test, predictions3)))"
      ],
      "metadata": {
        "id": "nMbL8XBgcCFn"
      },
      "execution_count": null,
      "outputs": []
    },
    {
      "cell_type": "markdown",
      "source": [
        "Modelo K-NN para Classificação"
      ],
      "metadata": {
        "id": "hZQx-P8KwTOW"
      }
    },
    {
      "cell_type": "code",
      "source": [
        "# Importes necessários\n",
        "from sklearn.neighbors import KNeighborsClassifier\n",
        "\n",
        "# K-NN com 7 vizinhos, metrica 'euclidoen' para Classificação\n",
        "model7 = KNeighborsClassifier(n_neighbors = 7, metric = 'euclidean', algorithm = 'brute')\n",
        "# K-NN com 5 vizinhos, metrica 'manhattan' para Classificação\n",
        "model8 = KNeighborsClassifier(n_neighbors = 5, metric = 'manhattan', algorithm = 'brute')\n",
        "\n",
        "# Treinameto dos dados com K-NN\n",
        "treino7 = model7.fit(train_data, train_labels) # ou treino7 = model7.fit(X_train, y_train)\n",
        "treino8 = model8.fit(train_data, train_labels) # ou treino8 = model8.fit(X_train, y_train)\n",
        "\n",
        "# Resultados dos Testes\n",
        "predictions7 = treino7.predict(test_data) # ou predictions7 = treino7.predict(X_test)\n",
        "predictions8 = treino8.predict(test_data) # ou predictions8 = treino8.predict(X_test)\n",
        "\n",
        "# Para mostrar a acurácia dos Testes/Treinamento em '%'\n",
        "acc7 = metrics.accuracy_score(predictions7, test_labels) # ou acc7 = metrics.accuracy_score(predictions7, y_test)\n",
        "show7 = round(acc7 * 100)\n",
        "acc8 = metrics.accuracy_score(predictions8, test_labels) # ou acc8 = metrics.accuracy_score(predictions8, y_test)\n",
        "show8 = round(acc8 * 100)\n",
        "\n",
        "print('Modelo Classificação K-NN com 7 Vizinhos + Euclidean')\n",
        "print(\"Classificação K-NN com 7 Vizinhos + Euclidean \" + \"Acurrácia: {}%\".format(show7)) # ou print(\"Acurrácia: {}%\".format(show7))\n",
        "print(list(predictions7))\n",
        "print(list(y_test_labels)) # ou print(list(y_test))\n",
        "print()\n",
        "print('Modelo Classificação K-NN com 5 Vizinhos + Mamhattan')\n",
        "print(\"Classificação K-NN com 5 Vizinhos + Mamhattan \" + \"Acurrácia: {}%\".format(show8)) # ou print(\"Acurrácia: {}%\".format(show8))\n",
        "print(list(predictions8))\n",
        "print(list(y_test_labels)) # ou print(list(y_test))"
      ],
      "metadata": {
        "id": "S8dME8dnwYfk"
      },
      "execution_count": null,
      "outputs": []
    },
    {
      "cell_type": "markdown",
      "source": [
        "Modelo Rede Neural para Classificação"
      ],
      "metadata": {
        "id": "Fv1BbavKcUsy"
      }
    },
    {
      "cell_type": "code",
      "source": [
        "# Importes necessários\n",
        "from sklearn.neural_network import MLPClassifier\n",
        "from sklearn import metrics\n",
        "\n",
        "# Configuração dos neurônios(hidden_layer_sizes=(camada1,camada2)), tipo(activation='tanh' ou 'relu') e quantidade de itens(max_iter=valor)\n",
        "# Redes Neurais para Classificação\n",
        "model4 = MLPClassifier(hidden_layer_sizes=(2,2), activation='tanh', max_iter=2000)\n",
        "\n",
        "# Treinamento com K-NN para Classifição\n",
        "treino4 = model4.fit(train_data, train_labels) # ou treino4 = model4.fit(X_train, y_train)\n",
        "\n",
        "# Para testar um dado novo, depois de add o dado no 'df' informar a linha do mesmo '[[linhaN]]'\n",
        "predictions4 = treino4.predict(test_data.iloc[[N]]) # ou predictions4 = treino4.predict(X_test.iloc[[N]])\n",
        "\n",
        "# Resultados dos Testes\n",
        "predictions4 = treino4.predict(test_data) # ou predictions4 = treino4.predict(X_test)\n",
        "\n",
        "# Para mostrar a acurácia dos Testes/Treinamento em '%'\n",
        "acc4 = metrics.accuracy_score(predictions4, test_labels) # ou acc4 = metrics.accuracy_score(predictions4, y_test)\n",
        "show4 = round(acc4 * 100)\n",
        "\n",
        "#print(model4)\n",
        "#display (X_test)\n",
        "print('Modelo Classificação Rede Neural')\n",
        "print(\"Classificação Rede Neural \" + \"Acurrácia: {}%\".format(show8)) # ou print(\"Acurrácia: {}%\".format(show4))\n",
        "print(list(predictions4))\n",
        "print(list(test_labels)) # ou print(list(y_test))\n",
        "\n",
        "# Parâmetros de Rede\n",
        "print(\"Número de classes:\", model4.classes_, \"\\n\")\n",
        "print(\"Número de camadas:\", model4.n_layers_, \"\\n\")\n",
        "print(\"Número de saídas:\", model4.n_outputs_, \"\\n\")\n",
        "print(\"Tamanho do vetor de pesos:\", len(model4.coefs_), \"\\n\")\n",
        "print(\"Pesos da camada de entrada:\\n\", model4.coefs_[0], \"\\n\")\n",
        "print(\"Tamanho do vetor dos limiares (bias):\", len(model4.intercepts_), \"\\n\")\n",
        "print(\"Pesos omega (limiar):\\n\", model4.intercepts_[0], \"\\n\")"
      ],
      "metadata": {
        "id": "bbG0zSwFcYfq"
      },
      "execution_count": null,
      "outputs": []
    },
    {
      "cell_type": "markdown",
      "source": [
        "Visualizar Gráfico dos Dados do 'df'"
      ],
      "metadata": {
        "id": "n2rtrYQwd3hn"
      }
    },
    {
      "cell_type": "code",
      "source": [
        "# Importes necessários\n",
        "import pandas as pd\n",
        "# API de visualização dos dados do df\n",
        "import seaborn as sns\n",
        "import matplotlib.pyplot as plt\n",
        "from sklearn import preprocessing\n",
        "\n",
        "url = \"https://raw.githubusercontent.com/tmoura/machinelearning/master/iris.data\"\n",
        "\n",
        "# Carregar base de dados pela 'Url'\n",
        "df4 = pd.read_csv(url, header=None)\n",
        "\n",
        "# Visualizar os Gráficos gerados a partir do 'df'\n",
        "sns.pairplot(data=df4, vars=(1,2,3,4), hue=0 )"
      ],
      "metadata": {
        "id": "IHczs4CT5key"
      },
      "execution_count": null,
      "outputs": []
    }
  ]
}